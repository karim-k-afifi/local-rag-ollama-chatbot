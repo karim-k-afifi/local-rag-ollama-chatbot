{
 "cells": [
  {
   "cell_type": "markdown",
   "id": "7d06183c",
   "metadata": {},
   "source": [
    "Local RAG Chatbot with Ollama\n",
    "\n",
    "A complete retrieval-augmented generation system running locally with Ollama LLMs."
   ]
  },
  {
   "cell_type": "code",
   "execution_count": 1,
   "id": "41f46273",
   "metadata": {},
   "outputs": [],
   "source": [
    "# !pip install pydantic==2.11.0\n",
    "# !pip install gradio\n",
    "# !pip install openai # For interacting with Ollama's OpenAI-compatible API\n",
    "# !pip install langchain-core langchain-community langchain-text-splitters langchain-chroma # Core LangChain components\n",
    "# !pip install chromadb sentence-transformers huggingface-hub\n",
    "# !pip install scikit-learn plotly numpy python-dotenv # For visualization and utilities\n",
    "# !pip install ipykernel ipywidgets # For Jupyter environment"
   ]
  },
  {
   "cell_type": "code",
   "execution_count": 2,
   "id": "4adfbdcf",
   "metadata": {},
   "outputs": [],
   "source": [
    "# Core imports\n",
    "import os\n",
    "import glob\n",
    "from dotenv import load_dotenv\n",
    "import gradio as gr\n",
    "from IPython.display import Markdown\n",
    "import shutil\n",
    "import uuid\n",
    "\n",
    "# OpenAI Library\n",
    "from openai import OpenAI\n",
    "\n",
    "# LangChain components needed\n",
    "from langchain_community.document_loaders import DirectoryLoader, TextLoader\n",
    "from langchain_text_splitters import RecursiveCharacterTextSplitter\n",
    "from langchain_core.documents import Document\n",
    "from langchain_community.embeddings import HuggingFaceEmbeddings\n",
    "from langchain_chroma import Chroma\n",
    "\n",
    "# Visualization imports\n",
    "from sklearn.manifold import TSNE\n",
    "import numpy as np\n",
    "import plotly.graph_objects as go\n"
   ]
  },
  {
   "cell_type": "code",
   "execution_count": 3,
   "id": "b88996ad",
   "metadata": {},
   "outputs": [
    {
     "data": {
      "text/plain": [
       "True"
      ]
     },
     "execution_count": 3,
     "metadata": {},
     "output_type": "execute_result"
    }
   ],
   "source": [
    "# Load environment variables from .env file\n",
    "load_dotenv(override=True)"
   ]
  },
  {
   "cell_type": "code",
   "execution_count": 4,
   "id": "0ba46d52",
   "metadata": {},
   "outputs": [],
   "source": [
    "# Simple dictionary to store chat histories as lists of messages ---\n",
    "chat_histories = {}"
   ]
  },
  {
   "cell_type": "code",
   "execution_count": 5,
   "id": "fbb5872a",
   "metadata": {},
   "outputs": [],
   "source": [
    "def setup_ollama_client():\n",
    "    \"\"\"\n",
    "    Initialize and configure the OpenAI client to point to the Ollama server.\n",
    "    Ensures the correct base URL (/v1) is used.\n",
    "    \"\"\"\n",
    "    # URL must end in /v1 for Ollama's OpenAI-compatible API\n",
    "    ollama_url = os.getenv('OLLAMA_URL', 'http://localhost:11434/v1')\n",
    "    ollama_api_key = os.getenv('OLLAMA_API_KEY', 'ollama')\n",
    "    ollama_model = os.getenv('OLLAMA_MODEL', 'llama3.2:latest')\n",
    "\n",
    "    print(f\"🔧 Configuring OpenAI client for Ollama...\")\n",
    "    print(f\"   URL: {ollama_url}\")\n",
    "    print(f\"   Model: {ollama_model}\")\n",
    "\n",
    "    # Create the OpenAI client, pointing it to Ollama\n",
    "    try:\n",
    "        client = OpenAI(\n",
    "            base_url=ollama_url,\n",
    "            api_key=ollama_api_key,\n",
    "        )\n",
    "        print(\"   Client configured successfully.\")\n",
    "        return client, ollama_model\n",
    "    except Exception as e:\n",
    "        print(f\"     Error configuring client: {e}\")\n",
    "        print(\"      Ensure Ollama is running and the URL is correct (including /v1).\")\n",
    "        return None, None"
   ]
  },
  {
   "cell_type": "code",
   "execution_count": 6,
   "id": "fd6c0510",
   "metadata": {},
   "outputs": [],
   "source": [
    "def test_direct_ollama(client, model_name):\n",
    "    \"\"\"\n",
    "    Sends a simple test prompt directly to Ollama using the configured\n",
    "    OpenAI client to verify the connection.\n",
    "    Uses the correct client.chat.completions.create() method.\n",
    "    \"\"\"\n",
    "    if not client: return False\n",
    "    print(\"🧪 Testing Ollama connection...\")\n",
    "    try:\n",
    "        # FIXED: Use the standard OpenAI library method create()\n",
    "        response = client.chat.completions.create(\n",
    "            model=model_name,\n",
    "            messages=[{\"role\": \"user\", \"content\": \"What is 2+2? Answer in one word.\"}],\n",
    "            max_tokens=10\n",
    "        )\n",
    "        # FIXED: Access the response content correctly\n",
    "        answer = response.choices[0].message.content\n",
    "        print(f\"   Ollama test response: {answer.strip()}\")\n",
    "        return True\n",
    "    except Exception as e:\n",
    "        print(f\"   Ollama connection failed: {e}\")\n",
    "        print(\"     Make sure Ollama is running and accessible at the configured URL (including /v1).\")\n",
    "        return False"
   ]
  },
  {
   "cell_type": "code",
   "execution_count": 7,
   "id": "680c3460",
   "metadata": {},
   "outputs": [],
   "source": [
    "def load_and_process_documents(knowledge_base_path=\"knowledge-base\"):\n",
    "    \"\"\"\n",
    "    Loads documents from the specified directory, adds metadata,\n",
    "    and splits them into manageable chunks using RecursiveCharacterTextSplitter.\n",
    "    Uses TextLoader via loader_cls.\n",
    "    \"\"\"\n",
    "\n",
    "    print(\"Loading documents from knowledge base...\")\n",
    "\n",
    "    folders = glob.glob(f\"{knowledge_base_path}/*\")\n",
    "    documents = []\n",
    "    text_loader_kwargs = {'encoding': 'utf-8'} # Standard encoding\n",
    "\n",
    "    for folder in folders:\n",
    "        doc_type = os.path.basename(folder)\n",
    "        try:\n",
    "            loader = DirectoryLoader(\n",
    "                folder,\n",
    "                glob=\"**/*.md\",\n",
    "                loader_cls=TextLoader,\n",
    "                loader_kwargs=text_loader_kwargs\n",
    "            )\n",
    "            folder_docs = loader.load()\n",
    "            if folder_docs: # Check if loader returned any documents\n",
    "                 for doc in folder_docs: # Add metadata to each loaded doc\n",
    "                     doc.metadata[\"doc_type\"] = doc_type\n",
    "                 documents.extend(folder_docs)\n",
    "            else:\n",
    "                 print(f\"   Warning: No documents loaded from folder '{folder}' with glob '**/*.md'\")\n",
    "        except Exception as e:\n",
    "            print(f\"   Error loading documents from folder '{folder}': {e}\")\n",
    "\n",
    "    # Check if any documents were loaded overall\n",
    "    if not documents:\n",
    "         print(\"   CRITICAL: No documents were successfully loaded. Check paths, glob pattern, and file types.\")\n",
    "         return [] # Return empty list if no documents loaded\n",
    "\n",
    "    # Initialize the text splitter\n",
    "    text_splitter = RecursiveCharacterTextSplitter(\n",
    "        chunk_size=800,\n",
    "        chunk_overlap=150,\n",
    "        separators=[\"\\n\\n\", \"\\n\", \". \", \"! \", \"? \", \" \", \"\"], # Define separators for splitting\n",
    "    )\n",
    "    \n",
    "    # Split the loaded documents into chunks\n",
    "    chunks = text_splitter.split_documents(documents)\n",
    "\n",
    "    print(f\"   Total documents loaded: {len(documents)}\")\n",
    "    print(f\"   Total chunks created: {len(chunks)}\")\n",
    "    print(f\"   ℹDocument types found: {set(doc.metadata.get('doc_type', 'N/A') for doc in documents)}\")\n",
    "\n",
    "    return chunks"
   ]
  },
  {
   "cell_type": "code",
   "execution_count": 8,
   "id": "e537dcd4",
   "metadata": {},
   "outputs": [],
   "source": [
    "def create_vector_store(chunks, db_name=\"vector_db\"):\n",
    "    \"\"\"\n",
    "    Creates a Chroma vector store from document chunks using\n",
    "    HuggingFace embeddings. Deletes any existing database first.\n",
    "    \"\"\"\n",
    "    \n",
    "    if not chunks:\n",
    "        print(\"   Skipping vector store creation: No document chunks provided.\")\n",
    "        return None\n",
    "    \n",
    "    print(\"Creating vector store...\")\n",
    "\n",
    "    # Initialize embeddings model\n",
    "    embeddings = HuggingFaceEmbeddings(\n",
    "        model_name=\"sentence-transformers/all-MiniLM-L6-v2\",\n",
    "        model_kwargs={'device': 'cpu'},\n",
    "        encode_kwargs={'normalize_embeddings': True} # Normalize embeddings for better similarity search\n",
    "    )\n",
    "    # Remove old database directory if it exists\n",
    "    if os.path.exists(db_name):\n",
    "        print(\"   Removing existing vector database...\")\n",
    "        shutil.rmtree(db_name, ignore_errors=True)\n",
    "\n",
    "    # Create and persist the vector store\n",
    "    vectorstore = Chroma.from_documents(\n",
    "        documents=chunks,\n",
    "        embedding=embeddings,\n",
    "        persist_directory=db_name\n",
    "    )\n",
    "    \n",
    "    print(f\"   Vector store created with {vectorstore._collection.count()} documents\")\n",
    "    return vectorstore"
   ]
  },
  {
   "cell_type": "code",
   "execution_count": 9,
   "id": "95d64a8e",
   "metadata": {},
   "outputs": [],
   "source": [
    "def visualize_vector_store(vectorstore):\n",
    "    \"\"\"\n",
    "    Creates 2D and 3D t-SNE visualizations of the document chunk embeddings\n",
    "    in the vector store using Plotly. Uses 'max_iter' instead of 'n_iter'.\n",
    "    \"\"\"\n",
    "    if not vectorstore:\n",
    "        print(\"   Skipping visualization: Vector store not available.\")\n",
    "        return\n",
    "    print(\"Creating vector store visualizations...\")\n",
    "\n",
    "    try:\n",
    "        # Get embeddings, documents, and metadata from the Chroma collection\n",
    "        collection = vectorstore._collection\n",
    "        result = collection.get(include=['embeddings', 'documents', 'metadatas'])\n",
    "\n",
    "        vectors = np.array(result['embeddings'])\n",
    "        if vectors.shape[0] < 2: # Need at least 2 points for TSNE\n",
    "             print(\"   Skipping visualization: Not enough documents for TSNE.\")\n",
    "             return\n",
    "\n",
    "        # Handle perplexity: must be less than the number of samples\n",
    "        perplexity_value = min(30, vectors.shape[0] - 1)\n",
    "        if perplexity_value <= 0:\n",
    "             print(\"   Skipping visualization: Perplexity must be positive.\")\n",
    "             return\n",
    "\n",
    "\n",
    "        documents_text = result['documents']\n",
    "        metadatas = result['metadatas']\n",
    "        doc_types = [metadata.get('doc_type', 'unknown') for metadata in metadatas]\n",
    "\n",
    "        # Define colors for different document types\n",
    "        color_map = {'products': 'blue', 'employees': 'green', 'contracts': 'red', 'company': 'orange'}\n",
    "        colors = [color_map.get(t, 'gray') for t in doc_types]\n",
    "\n",
    "        # --- 2D Visualization using t-SNE ---\n",
    "        print(\"   Generating 2D plot...\")\n",
    "        \n",
    "        tsne_2d = TSNE(n_components=2, random_state=42, perplexity=perplexity_value, max_iter=300) \n",
    "        reduced_vectors_2d = tsne_2d.fit_transform(vectors)\n",
    "\n",
    "        fig_2d = go.Figure(data=[go.Scatter(\n",
    "            x=reduced_vectors_2d[:, 0],\n",
    "            y=reduced_vectors_2d[:, 1],\n",
    "            mode='markers',\n",
    "            marker=dict(size=5, color=colors, opacity=0.8),\n",
    "            text=[f\"Type: {t}<br>Text: {d[:100]}...\" for t, d in zip(doc_types, documents_text)], # Tooltip text\n",
    "            hoverinfo='text'\n",
    "        )])\n",
    "        fig_2d.update_layout(title='2D Vector Store Visualization (t-SNE)', width=800, height=600)\n",
    "        fig_2d.show()\n",
    "\n",
    "        # --- 3D Visualization using t-SNE ---\n",
    "        if vectors.shape[0] >= 4: # Need enough points for 3D\n",
    "            print(\"   Generating 3D plot...\")\n",
    "            # FIXED: Changed n_iter=300 to max_iter=300\n",
    "            tsne_3d = TSNE(n_components=3, random_state=42, perplexity=perplexity_value, max_iter=300) \n",
    "            reduced_vectors_3d = tsne_3d.fit_transform(vectors)\n",
    "\n",
    "            fig_3d = go.Figure(data=[go.Scatter3d(\n",
    "                x=reduced_vectors_3d[:, 0],\n",
    "                y=reduced_vectors_3d[:, 1],\n",
    "                z=reduced_vectors_3d[:, 2],\n",
    "                mode='markers',\n",
    "                marker=dict(size=4, color=colors, opacity=0.8),\n",
    "                text=[f\"Type: {t}<br>Text: {d[:100]}...\" for t, d in zip(doc_types, documents_text)], # Tooltip text\n",
    "                hoverinfo='text'\n",
    "            )])\n",
    "            fig_3d.update_layout(title='3D Vector Store Visualization (t-SNE)', width=900, height=700)\n",
    "            fig_3d.show()\n",
    "        else:\n",
    "            print(\"   Skipping 3D plot: Need at least 4 documents.\")\n",
    "\n",
    "    except ImportError:\n",
    "        print(\"   Visualization skipped: Please install scikit-learn and plotly.\")\n",
    "    except Exception as e:\n",
    "        print(f\"   Visualization failed: {e}\")"
   ]
  },
  {
   "cell_type": "code",
   "execution_count": 10,
   "id": "94051372",
   "metadata": {},
   "outputs": [],
   "source": [
    "def format_docs(docs):\n",
    "    \"\"\" Helper function to combine document page contents into a single string. \"\"\"\n",
    "    return \"\\n\\n\".join(doc.page_content for doc in docs)"
   ]
  },
  {
   "cell_type": "code",
   "execution_count": 11,
   "id": "bde3f43e",
   "metadata": {},
   "outputs": [],
   "source": [
    "def run_rag_with_history(client, model_name, retriever, question, session_id):\n",
    "    \"\"\"\n",
    "    Core RAG logic using the direct openai client:\n",
    "    1. Retrieves relevant documents based on the question.\n",
    "    2. Fetches the chat history for the current session.\n",
    "    3. Constructs a prompt including system instructions, retrieved context, and chat history.\n",
    "    4. Calls the Ollama model via the OpenAI client.\n",
    "    5. Updates the chat history with the new question and answer.\n",
    "    \"\"\"\n",
    "\n",
    "    print(f\"\\n--- Processing Query for session {session_id} ---\")\n",
    "    print(f\"   User Question: {question}\")\n",
    "\n",
    "    # 1. Retrieve relevant documents\n",
    "    try:\n",
    "        retrieved_docs = retriever.invoke(question)\n",
    "        context = format_docs(retrieved_docs)\n",
    "        print(f\"   Retrieved {len(retrieved_docs)} documents.\")\n",
    "    except Exception as e:\n",
    "        print(f\"   Error during document retrieval: {e}\")\n",
    "\n",
    "        context = \"\" # Proceed without context if retrieval fails\n",
    "        retrieved_docs = []\n",
    "\n",
    "    # 2. Get chat history for the session (simple list of dicts)\n",
    "    history = chat_histories.get(session_id, [])\n",
    "\n",
    "    # 3. Construct the prompt messages for the OpenAI client\n",
    "    system_prompt = (\n",
    "        \"You are an assistant for question-answering tasks. Use the following pieces \"\n",
    "        \"of retrieved context to answer the question. If the context doesn't provide the answer, \"\n",
    "        \"say that you don't have enough information based on the provided documents. \"\n",
    "        \"Do not make up information. Keep the answer concise and relevant.\"\n",
    "    )\n",
    "\n",
    "    messages = [{\"role\": \"system\", \"content\": system_prompt}]\n",
    "\n",
    "    # Add formatted context if available\n",
    "    if context:\n",
    "        messages.append({\"role\": \"system\", \"content\": f\"Context information based on provided documents:\\n{context}\"})\n",
    "    else:\n",
    "         messages.append({\"role\": \"system\", \"content\": \"No relevant context documents were found.\"})\n",
    "\n",
    "    # Add past history (if any)\n",
    "    messages.extend(history)\n",
    "\n",
    "    # Add current user question\n",
    "    messages.append({\"role\": \"user\", \"content\": question})\n",
    "\n",
    "    # 4. Call Ollama using the OpenAI client\n",
    "    try:\n",
    "        response = client.chat.completions.create(\n",
    "            model=model_name,\n",
    "            messages=messages,\n",
    "            temperature=0.3, # Lower temperature for more focused answers\n",
    "            max_tokens=500,  # Limit response length\n",
    "        )\n",
    "\n",
    "        answer = response.choices[0].message.content\n",
    "        print(f\"   LLM Answer: {answer[:100].strip()}...\")\n",
    "\n",
    "        # 5. Update history (simple list append)\n",
    "        current_history = chat_histories.get(session_id, [])\n",
    "        current_history.append({\"role\": \"user\", \"content\": question})\n",
    "        current_history.append({\"role\": \"assistant\", \"content\": answer})\n",
    "\n",
    "        # Optional: Limit history length to prevent excessive token usage\n",
    "        MAX_HISTORY_TURNS = 5 # Keep last 5 Q/A pairs (10 messages total)\n",
    "        if len(current_history) > MAX_HISTORY_TURNS * 2:\n",
    "            current_history = current_history[-(MAX_HISTORY_TURNS * 2):]\n",
    "\n",
    "        chat_histories[session_id] = current_history # Store updated history\n",
    "\n",
    "        return answer\n",
    "\n",
    "    except Exception as e:\n",
    "        error_msg = f\"Error during Ollama call: {e}\"\n",
    "        print(f\"   {error_msg}\")\n",
    "        # Consider more specific error handling if needed\n",
    "        return \"Sorry, I encountered an error trying to contact the AI model. Please ensure Ollama is running.\""
   ]
  },
  {
   "cell_type": "code",
   "execution_count": 12,
   "id": "3396128b",
   "metadata": {},
   "outputs": [],
   "source": [
    "def create_chat_interface(client, model_name, retriever):\n",
    "    \"\"\"\n",
    "    Sets up and launches the Gradio chat interface.\n",
    "    Manages a unique session ID for history tracking within the app instance.\n",
    "    \"\"\"\n",
    "\n",
    "    print(\"Setting up chat interface...\")\n",
    "\n",
    "    # Generate a unique session_id for this Gradio instance run\n",
    "    session_id = str(uuid.uuid4())\n",
    "    print(f\"   Using Session ID for this run: {session_id}\")\n",
    "\n",
    "    def chat_function_gradio(message, history):\n",
    "        \"\"\"\n",
    "        Wrapper function for Gradio. It calls the main RAG logic function,\n",
    "        passing the message and the unique session_id for this instance.\n",
    "        Gradio's 'history' parameter is not used for our internal memory management.\n",
    "        \"\"\"\n",
    "        return run_rag_with_history(client, model_name, retriever, message, session_id)\n",
    "\n",
    "    # Create the Gradio interface\n",
    "    interface = gr.ChatInterface(\n",
    "        fn=chat_function_gradio, # The function Gradio calls for each chat turn\n",
    "        title=\"Local RAG Chatbot\",\n",
    "        description=\"Ask questions about your documents. Powered by local Ollama LLM.\",\n",
    "        \n",
    "        examples=[ # Example prompts for the user\n",
    "            \"What is Insurellm?\",\n",
    "            \"When was it founded?\",\n",
    "            \"What services does Insurellm offer?\",\n",
    "        ],\n",
    "        cache_examples=False # Disable example caching if content changes\n",
    "    )\n",
    "    return interface"
   ]
  },
  {
   "cell_type": "code",
   "execution_count": 15,
   "id": "9995fd3f",
   "metadata": {},
   "outputs": [],
   "source": [
    "def main():\n",
    "    \"\"\"\n",
    "    Main function to set up and run the RAG chatbot application.\n",
    "    Orchestrates client setup, document loading, vector store creation,\n",
    "    testing, and launching the Gradio UI.\n",
    "    \"\"\"\n",
    "    print(\"Starting Local RAG Chatbot Setup...\")\n",
    "    print(\"=\" * 50)\n",
    "\n",
    "    # Step 1: Setup Ollama client using OpenAI library\n",
    "    client, model_name = setup_ollama_client()\n",
    "    if not client:\n",
    "        print(\"Exiting due to client setup failure.\")\n",
    "        return # Stop if client setup fails\n",
    "\n",
    "    # Step 2: Test Ollama connection\n",
    "    if not test_direct_ollama(client, model_name):\n",
    "        print(\"Exiting due to connection test failure.\")\n",
    "        return # Stop if connection fails\n",
    "\n",
    "    # Step 3: Load and process documents\n",
    "    chunks = load_and_process_documents()\n",
    "    if not chunks:\n",
    "        print(\"Exiting because no documents were processed.\")\n",
    "        return # Stop if no documents\n",
    "\n",
    "    # Step 4: Create vector store\n",
    "    vectorstore = create_vector_store(chunks)\n",
    "    if not vectorstore:\n",
    "        print(\"Exiting due to vector store creation failure.\")\n",
    "        return # Stop if vector store fails\n",
    "    \n",
    "    # Create the retriever from the vector store\n",
    "    retriever = vectorstore.as_retriever(search_kwargs={\"k\": 5}) # Retrieve top 5 chunks\n",
    "\n",
    "    # Step 5: Visualize vector store (Optional, requires Plotly/Sklearn)\n",
    "    visualize_vector_store(vectorstore)\n",
    "\n",
    "    # Step 6: Launch chat interface\n",
    "    print(\"Launching chat interface...\")\n",
    "    interface = create_chat_interface(client, model_name, retriever)\n",
    "    interface.launch(\n",
    "        inbrowser=True,\n",
    "        share=False,\n",
    "        server_name=\"127.0.0.1\",\n",
    "        server_port=7860,\n",
    "        debug=True\n",
    "    )\n",
    "    print(\"Chatbot interface launched. Check your browser.\")"
   ]
  },
  {
   "cell_type": "code",
   "execution_count": 16,
   "id": "2850beab",
   "metadata": {},
   "outputs": [
    {
     "name": "stdout",
     "output_type": "stream",
     "text": [
      "Starting Local RAG Chatbot Setup...\n",
      "==================================================\n",
      "🔧 Configuring OpenAI client for Ollama...\n",
      "   URL: http://localhost:11434/v1\n",
      "   Model: llama3.2:latest\n",
      "   Client configured successfully.\n",
      "🧪 Testing Ollama connection...\n",
      "   Ollama test response: Four.\n",
      "Loading documents from knowledge base...\n",
      "   Total documents loaded: 31\n",
      "   Total chunks created: 152\n",
      "   ℹDocument types found: {'company', 'products', 'employees', 'contracts'}\n",
      "Creating vector store...\n",
      "   Removing existing vector database...\n",
      "   Vector store created with 304 documents\n",
      "Creating vector store visualizations...\n",
      "   Generating 2D plot...\n"
     ]
    },
    {
     "data": {
      "application/vnd.plotly.v1+json": {
       "config": {
        "plotlyServerURL": "https://plot.ly"
       },
       "data": [
        {
         "hoverinfo": "text",
         "marker": {
          "color": [
           "orange",
           "orange",
           "orange",
           "red",
           "red",
           "red",
           "red",
           "red",
           "red",
           "red",
           "red",
           "red",
           "red",
           "red",
           "red",
           "red",
           "red",
           "red",
           "red",
           "red",
           "red",
           "red",
           "red",
           "red",
           "red",
           "red",
           "red",
           "red",
           "red",
           "red",
           "red",
           "red",
           "red",
           "red",
           "red",
           "red",
           "red",
           "red",
           "red",
           "red",
           "red",
           "red",
           "red",
           "red",
           "red",
           "red",
           "red",
           "red",
           "red",
           "red",
           "red",
           "red",
           "red",
           "red",
           "red",
           "red",
           "red",
           "red",
           "red",
           "red",
           "red",
           "red",
           "red",
           "red",
           "red",
           "red",
           "green",
           "green",
           "green",
           "green",
           "green",
           "green",
           "green",
           "green",
           "green",
           "green",
           "green",
           "green",
           "green",
           "green",
           "green",
           "green",
           "green",
           "green",
           "green",
           "green",
           "green",
           "green",
           "green",
           "green",
           "green",
           "green",
           "green",
           "green",
           "green",
           "green",
           "green",
           "green",
           "green",
           "green",
           "green",
           "green",
           "green",
           "green",
           "green",
           "green",
           "green",
           "green",
           "green",
           "green",
           "green",
           "green",
           "green",
           "green",
           "green",
           "green",
           "green",
           "green",
           "green",
           "green",
           "green",
           "green",
           "green",
           "green",
           "green",
           "green",
           "green",
           "blue",
           "blue",
           "blue",
           "blue",
           "blue",
           "blue",
           "blue",
           "blue",
           "blue",
           "blue",
           "blue",
           "blue",
           "blue",
           "blue",
           "blue",
           "blue",
           "blue",
           "blue",
           "blue",
           "blue",
           "blue",
           "blue",
           "blue",
           "blue",
           "blue",
           "orange",
           "orange",
           "orange",
           "red",
           "red",
           "red",
           "red",
           "red",
           "red",
           "red",
           "red",
           "red",
           "red",
           "red",
           "red",
           "red",
           "red",
           "red",
           "red",
           "red",
           "red",
           "red",
           "red",
           "red",
           "red",
           "red",
           "red",
           "red",
           "red",
           "red",
           "red",
           "red",
           "red",
           "red",
           "red",
           "red",
           "red",
           "red",
           "red",
           "red",
           "red",
           "red",
           "red",
           "red",
           "red",
           "red",
           "red",
           "red",
           "red",
           "red",
           "red",
           "red",
           "red",
           "red",
           "red",
           "red",
           "red",
           "red",
           "red",
           "red",
           "red",
           "red",
           "red",
           "red",
           "red",
           "red",
           "green",
           "green",
           "green",
           "green",
           "green",
           "green",
           "green",
           "green",
           "green",
           "green",
           "green",
           "green",
           "green",
           "green",
           "green",
           "green",
           "green",
           "green",
           "green",
           "green",
           "green",
           "green",
           "green",
           "green",
           "green",
           "green",
           "green",
           "green",
           "green",
           "green",
           "green",
           "green",
           "green",
           "green",
           "green",
           "green",
           "green",
           "green",
           "green",
           "green",
           "green",
           "green",
           "green",
           "green",
           "green",
           "green",
           "green",
           "green",
           "green",
           "green",
           "green",
           "green",
           "green",
           "green",
           "green",
           "green",
           "green",
           "green",
           "green",
           "green",
           "green",
           "blue",
           "blue",
           "blue",
           "blue",
           "blue",
           "blue",
           "blue",
           "blue",
           "blue",
           "blue",
           "blue",
           "blue",
           "blue",
           "blue",
           "blue",
           "blue",
           "blue",
           "blue",
           "blue",
           "blue",
           "blue",
           "blue",
           "blue",
           "blue",
           "blue"
          ],
          "opacity": 0.8,
          "size": 5
         },
         "mode": "markers",
         "text": [
          "Type: company<br>Text: # About Insurellm\n\nInsurellm was founded by Avery Lancaster in 2015 as an insurance tech startup des...",
          "Type: company<br>Text: # Careers at Insurellm\n\nInsurellm is hiring! We are looking for talented software engineers, data sc...",
          "Type: company<br>Text: # Overview of Insurellm\n\nInsurellm is an innovative insurance tech firm with 200 employees across th...",
          "Type: contracts<br>Text: # Contract with Apex Reinsurance for Rellm: AI-Powered Enterprise Reinsurance Solution\n\n## Terms\n\n1....",
          "Type: contracts<br>Text: 4. **Contract Duration**: This Agreement shall commence on [Start Date] and shall remain in effect f...",
          "Type: contracts<br>Text: ## Features\n\n1. **AI-Driven Analytics**: The Rellm platform will utilize AI algorithms to provide pr...",
          "Type: contracts<br>Text: 5. **Dedicated Client Portal**: A portal for the Client will facilitate real-time communication and ...",
          "Type: contracts<br>Text: 4. **Escalation Protocol**: Issues that cannot be resolved at the first level of support will be esc...",
          "Type: contracts<br>Text: # Contract with Belvedere Insurance for Markellm\n\n## Terms\nThis Contract (\"Agreement\") is made and e...",
          "Type: contracts<br>Text: 1. **Service Commencement**: The services described herein will commence on [Start Date].\n2. **Contr...",
          "Type: contracts<br>Text: ## Renewal\n1. **Renewal Terms**: This Agreement may be renewed for additional one-year terms upon mu...",
          "Type: contracts<br>Text: ## Features\n1. **AI-Powered Matching**: Belvedere Insurance will benefit from Markellm's AI-powered ...",
          "Type: contracts<br>Text: ## Support\n1. **Technical Support**: Technical support will be available from 9 AM to 7 PM EST, Mond...",
          "Type: contracts<br>Text: **Insurellm, Inc.**  \nSignature: ______________________  \nName: [Authorized Signatory]  \nTitle: [Tit...",
          "Type: contracts<br>Text: # Contract with BrightWay Solutions for Markellm\n\n**Contract Date:** October 5, 2023  \n**Contract ID...",
          "Type: contracts<br>Text: 3. **Service Level Agreement (SLA):**  \n   Insurellm commits to a 99.9% uptime for the platform with...",
          "Type: contracts<br>Text: ### Features\n1. **Access to AI-Powered Matching:**  \n   BrightWay Solutions will benefit from the AI...",
          "Type: contracts<br>Text: ### Support\n1. **Dedicated Customer Support:**  \n   BrightWay Solutions will have access to a dedica...",
          "Type: contracts<br>Text: ### Signatures\nBy signing below, both parties agree to the terms and conditions outlined in this Con...",
          "Type: contracts<br>Text: # Contract with EverGuard Insurance for Rellm: AI-Powered Enterprise Reinsurance Solution\n\n**Contrac...",
          "Type: contracts<br>Text: 3. **Payment Terms**: EverGuard Insurance agrees to pay Insurellm a monthly fee of $10,000 for the d...",
          "Type: contracts<br>Text: 2. **Price Adjustment**: In the event of a renewal, Insurellm reserves the right to adjust the month...",
          "Type: contracts<br>Text: 4. **Client Portal Access**: EverGuard Insurance will have access to both client and broker portals,...",
          "Type: contracts<br>Text: 3. **Updates and Upgrades**: EverGuard Insurance will receive all platform updates and upgrades at n...",
          "Type: contracts<br>Text: --- \n\nThis contract seeks to foster a strong partnership between Insurellm and EverGuard Insurance, ...",
          "Type: contracts<br>Text: # Contract with GreenField Holdings for Markellm\n\n**Effective Date:** November 15, 2023  \n**Contract...",
          "Type: contracts<br>Text: ## Renewal\n1. **Automatic Renewal**: This contract will automatically renew for sequential one-year ...",
          "Type: contracts<br>Text: ## Features\n1. **AI-Powered Matching**: Access to advanced algorithms that connect GreenField Holdin...",
          "Type: contracts<br>Text: ## Support\n1. **Customer Support Access**: The Client will have access to dedicated support through ...",
          "Type: contracts<br>Text: ## Pricing\n- **Basic Listing Fee**: GreenField Holdings agrees to pay a monthly fee of $199 for a fe...",
          "Type: contracts<br>Text: # Contract with Greenstone Insurance for Homellm\n\n---\n\n## Terms\n\n1. **Parties**: This Contract (\"Agr...",
          "Type: contracts<br>Text: 4. **Payment Terms**: \n   - The Customer shall pay an amount of $10,000 per month for the Standard T...",
          "Type: contracts<br>Text: ---\n\n## Features\n\n- **AI-Powered Risk Assessment**: Customer will have access to enhanced risk evalu...",
          "Type: contracts<br>Text: - **Multi-Channel Integration**: Homellm will integrate with the Customer's existing platforms to cr...",
          "Type: contracts<br>Text: --- \n\n**AGREEMENT SIGNATURES**\n\nBy signing below, the parties acknowledge their acceptance of the te...",
          "Type: contracts<br>Text: # Contract with GreenValley Insurance for Homellm\n\n**Contract Date:** October 6, 2023  \n**Contract N...",
          "Type: contracts<br>Text: 3. **Payment:** GreenValley Insurance shall pay a monthly fee of $10,000, due by the 5th of every mo...",
          "Type: contracts<br>Text: ---\n\n## Features\n\nGreenValley Insurance will receive the following features with Homellm:\n\n1. **AI-P...",
          "Type: contracts<br>Text: 6. **Customer Portal:** A user-friendly portal for their customers for policy and claims management....",
          "Type: contracts<br>Text: ---\n\n**Signatures:**\n\n_________________________________  \n**[Name]**  \n**Title**: CEO  \n**Insurellm,...",
          "Type: contracts<br>Text: # Contract with Pinnacle Insurance Co. for Homellm\n\n## Terms\nThis contract (\"Contract\") is entered i...",
          "Type: contracts<br>Text: 1. **License Grant**: Insurellm hereby grants the Client a non-exclusive, non-transferable license t...",
          "Type: contracts<br>Text: ## Renewal\n1. **Renewal Terms**: At the end of the initial term, this Contract shall automatically r...",
          "Type: contracts<br>Text: ## Features\n1. **AI-Powered Risk Assessment**: Utilized for tailored underwriting decisions specific...",
          "Type: contracts<br>Text: 5. **Multi-Channel Integration**: Seamless access to customer data through existing systems in Pinna...",
          "Type: contracts<br>Text: ## Support\n1. **Technical Support**: Insurellm shall provide 24/7 technical support via an email and...",
          "Type: contracts<br>Text: ____  \n**Insurellm Authorized Signature**  \nName: Sarah Johnson  \nTitle: VP of Sales  \nDate: _______...",
          "Type: contracts<br>Text: # Contract with Roadway Insurance Inc. for Carllm\n\n---\n\n## Terms\n\n1. **Agreement Effective Date**: T...",
          "Type: contracts<br>Text: ---\n\n## Renewal\n\n1. **Automatic Renewal**: This agreement will automatically renew for an additional...",
          "Type: contracts<br>Text: ---\n\n## Features\n\n1. **Access to Core Features**: Roadway Insurance Inc. will have access to all Pro...",
          "Type: contracts<br>Text: ---\n\n## Support\n\n1. **Technical Support**: Roadway Insurance Inc. will receive priority technical su...",
          "Type: contracts<br>Text: # Contract with Stellar Insurance Co. for Rellm\n\n## Terms\nThis contract is made between **Insurellm*...",
          "Type: contracts<br>Text: ### Payment Terms\nStellar Insurance Co. agrees to pay Insurellm a monthly subscription fee of **$10,...",
          "Type: contracts<br>Text: ## Features\nStellar Insurance Co. will receive access to the following features of the Rellm product...",
          "Type: contracts<br>Text: ## Support\nInsurellm provides Stellar Insurance Co. with the following support services:\n\n- **24/7 T...",
          "Type: contracts<br>Text: **For Insurellm**  \n______________________________  \n[Signature]  \n[Name, Title]  \n[Date]  \n\n**For S...",
          "Type: contracts<br>Text: # Contract with TechDrive Insurance for Carllm\n\n**Contract Date:** October 1, 2024  \n**Contract Dura...",
          "Type: contracts<br>Text: **Contract Date:** October 1, 2024  \n**Contract Duration:** 12 months\n\n---\n\n## Terms\n\n1. **Parties I...",
          "Type: contracts<br>Text: ## Renewal\n\n1. **Automatic Renewal**: This contract shall automatically renew for additional one-yea...",
          "Type: contracts<br>Text: 2. **System Requirements**: TechDrive Insurance must ensure that their existing systems meet the tec...",
          "Type: contracts<br>Text: 3. **System Updates**: The Provider will push regular updates to improve system performance and add ...",
          "Type: contracts<br>Text: # Contract with Velocity Auto Solutions for Carllm\n\n**Contract Date:** October 1, 2023  \n**Contract ...",
          "Type: contracts<br>Text: ---\n\n## Terms\n\n1. **Duration**: This contract is effective for a period of 12 months from the contra...",
          "Type: contracts<br>Text: ## Renewal\n\n1. **Automatic Renewal**: This contract will automatically renew for successive 12-month...",
          "Type: contracts<br>Text: 2. **Feature Enhancements**: Velocity Auto Solutions will receive updates to the Carllm product as o...",
          "Type: contracts<br>Text: ---\n\n**Accepted and Agreed:**  \n**For Velocity Auto Solutions**  \nSignature: _____________________  ...",
          "Type: employees<br>Text: # HR Record\n\n# Alex Chen\n\n## Summary\n- **Date of Birth:** March 15, 1990  \n- **Job Title:** Backend ...",
          "Type: employees<br>Text: ## Annual Performance History\n- **2020:**  \n  - Completed onboarding successfully.  \n  - Met expecta...",
          "Type: employees<br>Text: ## Compensation History\n- **2020:** Base Salary: $80,000  \n- **2021:** Base Salary Increase to $90,0...",
          "Type: employees<br>Text: ## Other HR Notes\n- Participates regularly in Insurellm's Diversity & Inclusion initiatives, champio...",
          "Type: employees<br>Text: # HR Record\n\n# Alex Harper\n\n## Summary\n- **Date of Birth**: March 15, 1993  \n- **Job Title**: Sales ...",
          "Type: employees<br>Text: ## Annual Performance History  \n- **2021**:  \n  - **Performance Rating**: 4.5/5  \n  - **Key Achievem...",
          "Type: employees<br>Text: ## Compensation History  \n- **2021**:  \n  - **Base Salary**: $55,000  \n  - **Bonus**: $5,500 (10% of...",
          "Type: employees<br>Text: - **Awards**:  \n  - Insurellm \"SDR of the Year\" Award (2022)  \n  - Monthly MVP Recognition (3 times ...",
          "Type: employees<br>Text: # HR Record\n\n# Alex Thomson\n\n## Summary\n- **Date of Birth:** March 15, 1995  \n- **Job Title:** Sales...",
          "Type: employees<br>Text: ## Insurellm Career Progression\n- **November 2022** - Joined Insurellm as a Sales Development Repres...",
          "Type: employees<br>Text: ## Annual Performance History  \n- **2022** - Rated as \"Exceeds Expectations.\" Alex Thomson achieved ...",
          "Type: employees<br>Text: ## Compensation History\n- **2022**: Base Salary - $55,000 | Bonus - $5,000  \n- **2023**: Base Salary...",
          "Type: employees<br>Text: ## Other HR Notes\n- Alex Thomson is an active member of the Diversity and Inclusion committee at Ins...",
          "Type: employees<br>Text: # Avery Lancaster\n\n## Summary\n- **Date of Birth**: March 15, 1985  \n- **Job Title**: Co-Founder & Ch...",
          "Type: employees<br>Text: - **2013 - 2015**: Senior Product Manager at Innovate Insurance Solutions  \n  Before launching Insur...",
          "Type: employees<br>Text: - **2016**: **Meets Expectations**  \n  Growth continued, though challenges arose in operational effi...",
          "Type: employees<br>Text: - **2020**: **Below Expectations**  \n  The COVID-19 pandemic posed unforeseen operational difficulti...",
          "Type: employees<br>Text: - **2023**: **Exceeds Expectations**  \n  Market leadership was regained with innovative approaches t...",
          "Type: employees<br>Text: ## Compensation History\n- **2015**: $150,000 base salary + Significant equity stake  \n- **2016**: $1...",
          "Type: employees<br>Text: ## Other HR Notes\n- **Professional Development**: Avery has actively participated in leadership trai...",
          "Type: employees<br>Text: Avery Lancaster has demonstrated resilience and adaptability throughout her career at Insurellm, pos...",
          "Type: employees<br>Text: # HR Record\n\n# Emily Carter\n\n## Summary\n- **Date of Birth:** August 12, 1990  \n- **Job Title:** Acco...",
          "Type: employees<br>Text: ## Insurellm Career Progression\n- **2021-Present:** Account Executive  \n  - Responsibilities include...",
          "Type: employees<br>Text: - **2017-2019:** Marketing Intern  \n  - Assisted with market research and campaign development for s...",
          "Type: employees<br>Text: ## Compensation History\n| Year | Base Salary | Bonus         | Total Compensation |\n|------|--------...",
          "Type: employees<br>Text: ## Other HR Notes\n- **Professional Development:** Emily is currently enrolled in a leadership traini...",
          "Type: employees<br>Text: # HR Record\n\n# Emily Tran\n\n## Summary\n- **Date of Birth:** March 18, 1991  \n- **Job Title:** Digital...",
          "Type: employees<br>Text: - **January 2017 - May 2018**: Marketing Intern  \n  - Supported the Marketing team by collaborating ...",
          "Type: employees<br>Text: - **2021**:  \n  - Performance Rating: Meets Expectations  \n  - Key Achievements: Contributed to the ...",
          "Type: employees<br>Text: - **Professional Development Goals**:  \n  - Emily Tran aims to become a Marketing Manager within the...",
          "Type: employees<br>Text: # HR Record\n\n# Jordan Blake\n\n## Summary\n- **Date of Birth:** March 15, 1993  \n- **Job Title:** Sales...",
          "Type: employees<br>Text: ## Annual Performance History\n- **2021:** First year at Insurellm; achieved 90% of monthly targets. ...",
          "Type: employees<br>Text: ## Compensation History\n- **2021-06:** Starting Salary: $50,000  \n- **2022-04:** Merit-based increas...",
          "Type: employees<br>Text: ## Other HR Notes\n- Jordan has shown an interest in continuing education, actively participating in ...",
          "Type: employees<br>Text: # HR Record\n\n# Jordan K. Bishop\n\n## Summary\n- **Date of Birth:** March 15, 1990\n- **Job Title:** Fro...",
          "Type: employees<br>Text: ## Insurellm Career Progression\n- **June 2018:** Hired as a Frontend Software Engineer.\n- **August 2...",
          "Type: employees<br>Text: ## Annual Performance History\n- **2019:** Exceeds Expectations - Continuously delivered high-quality...",
          "Type: employees<br>Text: ## Compensation History\n- **June 2018:** Starting Salary - $85,000\n- **June 2019:** Salary Increase ...",
          "Type: employees<br>Text: ## Other HR Notes\n- Jordan K. Bishop has been an integral part of club initiatives, including the In...",
          "Type: employees<br>Text: # HR Record\n\n# Maxine Thompson\n\n## Summary\n- **Date of Birth:** January 15, 1991  \n- **Job Title:** ...",
          "Type: employees<br>Text: ## Insurellm Career Progression\n- **January 2017 - October 2018**: **Junior Data Engineer**  \n  * Ma...",
          "Type: employees<br>Text: - **January 2021 - Present**: **Senior Data Engineer**  \n  * Maxine was promoted to Senior Data Engi...",
          "Type: employees<br>Text: ## Annual Performance History\n- **2017**: *Meets Expectations*  \n  Maxine showed potential in her ro...",
          "Type: employees<br>Text: - **2020**: *Meets Expectations*  \n  Maxine focused on regaining her footing and excelling with tech...",
          "Type: employees<br>Text: - **2023**: *Exceeds Expectations*  \n  Maxine has taken on mentoring responsibilities and is leading...",
          "Type: employees<br>Text: ## Other HR Notes\n- Maxine participated in various company-sponsored trainings related to big data t...",
          "Type: employees<br>Text: # HR Record\n\n# Oliver Spencer\n\n## Summary\n- **Date of Birth**: May 14, 1990  \n- **Job Title**: Backe...",
          "Type: employees<br>Text: ## Insurellm Career Progression\n- **March 2018**: Joined Insurellm as a Backend Developer I, focusin...",
          "Type: employees<br>Text: ## Annual Performance History\n- **2018**: **3/5** - Adaptable team player but still learning to take...",
          "Type: employees<br>Text: ## Compensation History\n- **March 2018**: Initial salary of $80,000.\n- **July 2019**: Salary increas...",
          "Type: employees<br>Text: ## Other HR Notes\n- Oliver enjoys a strong rapport with team members and is known for organizing reg...",
          "Type: employees<br>Text: # Samantha Greene\n\n## Summary\n- **Date of Birth:** October 14, 1990\n- **Job Title:** HR Generalist\n-...",
          "Type: employees<br>Text: ## Summary\n- **Date of Birth:** October 14, 1990\n- **Job Title:** HR Generalist\n- **Location:** Denv...",
          "Type: employees<br>Text: ## Annual Performance History\n- **2020:** Exceeds Expectations  \n  Samantha Greene demonstrated exce...",
          "Type: employees<br>Text: - **2023:** Meets Expectations  \n  After attending workshops focused on conflict resolution, Samanth...",
          "Type: employees<br>Text: - **2023:** Base Salary - $70,000  \n  Recognized for substantial improvement in employee relations m...",
          "Type: employees<br>Text: # HR Record\n\n# Samuel Trenton\n\n## Summary\n- **Date of Birth:** April 12, 1989  \n- **Job Title:** Sen...",
          "Type: employees<br>Text: - **August 2016 - May 2018:** Junior Data Analyst  \n  *Started at Insurellm as a Junior Data Analyst...",
          "Type: employees<br>Text: - **2021:** Rating: 4.0/5  \n  *There was notable improvement in performance. Worked to enhance model...",
          "Type: employees<br>Text: - **2021:** Base Salary: $105,000 + Bonus: $12,000  \n  *Merit-based increase, reflecting consistent ...",
          "Type: employees<br>Text: - **Areas for Improvement:** Collaboration with engineering teams has been noted as an area needing ...",
          "Type: products<br>Text: # Product Summary\n\n# Carllm\n\n## Summary\n\nCarllm is an innovative auto insurance product developed by...",
          "Type: products<br>Text: ## Features\n\n- **AI-Powered Risk Assessment**: Carllm leverages artificial intelligence to analyze d...",
          "Type: products<br>Text: - **Fraud Detection**: The product incorporates advanced analytics to identify potentially fraudulen...",
          "Type: products<br>Text: ## Pricing\n\nCarllm is offered under a subscription-based pricing model tailored to meet the needs of...",
          "Type: products<br>Text: Contact our sales team for a personalized quote and discover how Carllm can transform your auto insu...",
          "Type: products<br>Text: ### Q4 2025: AI and Machine Learning Upgrades\n- Implement next-gen machine learning models for predi...",
          "Type: products<br>Text: # Product Summary\n\n# Homellm\n\n## Summary\nHomellm is an innovative home insurance product developed b...",
          "Type: products<br>Text: ## Features\n### 1. AI-Powered Risk Assessment\nHomellm utilizes sophisticated AI algorithms to analyz...",
          "Type: products<br>Text: ### 3. Instant Claim Processing\nThe AI-driven claims management system in Homellm automates the enti...",
          "Type: products<br>Text: ### 5. Multi-Channel Integration\nHomellm seamlessly integrates into existing insurance platforms, pr...",
          "Type: products<br>Text: - **Basic Tier:** Starting at $5,000/month for small insurers with basic integration features.\n- **S...",
          "Type: products<br>Text: ## Roadmap\nThe development roadmap for Homellm includes the following key milestones:\n\n- **Q1 2024:*...",
          "Type: products<br>Text: With Homellm, Insurellm is committed to transforming the landscape of home insurance, ensuring both ...",
          "Type: products<br>Text: # Product Summary\n\n# Markellm\n\n## Summary\n\nMarkellm is an innovative two-sided marketplace designed ...",
          "Type: products<br>Text: ## Features\n\n- **AI-Powered Matching**: Markellm utilizes sophisticated AI algorithms to match consu...",
          "Type: products<br>Text: - **Customized Recommendations**: Based on user profiles and preferences, Markellm provides personal...",
          "Type: products<br>Text: ## Pricing\n\nAt Markellm, we believe in transparency and flexibility. Our pricing structure is design...",
          "Type: products<br>Text: ### For Insurance Companies:\n- **Basic Listing Fee**: $199/month for a featured listing on the platf...",
          "Type: products<br>Text: ### Q3 2025\n- Initiate a comprehensive marketing campaign targeting both consumers and insurers to i...",
          "Type: products<br>Text: # Product Summary\n\n# Rellm: AI-Powered Enterprise Reinsurance Solution\n\n## Summary\n\nRellm is an inno...",
          "Type: products<br>Text: ## Features\n\n### AI-Driven Analytics\nRellm utilizes cutting-edge AI algorithms to provide predictive...",
          "Type: products<br>Text: ### Risk Assessment Module\nThe comprehensive risk assessment module within Rellm allows insurers to ...",
          "Type: products<br>Text: ### Client and Broker Portals\nRellm offers dedicated portals for both clients and brokers, facilitat...",
          "Type: products<br>Text: Join the growing number of organizations leveraging Rellm to enhance their reinsurance processes whi...",
          "Type: products<br>Text: - **Q3 2026**: \n  - Release of a community platform for Rellm users to exchange insights, tips, and ...",
          "Type: company<br>Text: # About Insurellm\n\nInsurellm was founded by Avery Lancaster in 2015 as an insurance tech startup des...",
          "Type: company<br>Text: # Careers at Insurellm\n\nInsurellm is hiring! We are looking for talented software engineers, data sc...",
          "Type: company<br>Text: # Overview of Insurellm\n\nInsurellm is an innovative insurance tech firm with 200 employees across th...",
          "Type: contracts<br>Text: # Contract with Apex Reinsurance for Rellm: AI-Powered Enterprise Reinsurance Solution\n\n## Terms\n\n1....",
          "Type: contracts<br>Text: 4. **Contract Duration**: This Agreement shall commence on [Start Date] and shall remain in effect f...",
          "Type: contracts<br>Text: ## Features\n\n1. **AI-Driven Analytics**: The Rellm platform will utilize AI algorithms to provide pr...",
          "Type: contracts<br>Text: 5. **Dedicated Client Portal**: A portal for the Client will facilitate real-time communication and ...",
          "Type: contracts<br>Text: 4. **Escalation Protocol**: Issues that cannot be resolved at the first level of support will be esc...",
          "Type: contracts<br>Text: # Contract with Belvedere Insurance for Markellm\n\n## Terms\nThis Contract (\"Agreement\") is made and e...",
          "Type: contracts<br>Text: 1. **Service Commencement**: The services described herein will commence on [Start Date].\n2. **Contr...",
          "Type: contracts<br>Text: ## Renewal\n1. **Renewal Terms**: This Agreement may be renewed for additional one-year terms upon mu...",
          "Type: contracts<br>Text: ## Features\n1. **AI-Powered Matching**: Belvedere Insurance will benefit from Markellm's AI-powered ...",
          "Type: contracts<br>Text: ## Support\n1. **Technical Support**: Technical support will be available from 9 AM to 7 PM EST, Mond...",
          "Type: contracts<br>Text: **Insurellm, Inc.**  \nSignature: ______________________  \nName: [Authorized Signatory]  \nTitle: [Tit...",
          "Type: contracts<br>Text: # Contract with BrightWay Solutions for Markellm\n\n**Contract Date:** October 5, 2023  \n**Contract ID...",
          "Type: contracts<br>Text: 3. **Service Level Agreement (SLA):**  \n   Insurellm commits to a 99.9% uptime for the platform with...",
          "Type: contracts<br>Text: ### Features\n1. **Access to AI-Powered Matching:**  \n   BrightWay Solutions will benefit from the AI...",
          "Type: contracts<br>Text: ### Support\n1. **Dedicated Customer Support:**  \n   BrightWay Solutions will have access to a dedica...",
          "Type: contracts<br>Text: ### Signatures\nBy signing below, both parties agree to the terms and conditions outlined in this Con...",
          "Type: contracts<br>Text: # Contract with EverGuard Insurance for Rellm: AI-Powered Enterprise Reinsurance Solution\n\n**Contrac...",
          "Type: contracts<br>Text: 3. **Payment Terms**: EverGuard Insurance agrees to pay Insurellm a monthly fee of $10,000 for the d...",
          "Type: contracts<br>Text: 2. **Price Adjustment**: In the event of a renewal, Insurellm reserves the right to adjust the month...",
          "Type: contracts<br>Text: 4. **Client Portal Access**: EverGuard Insurance will have access to both client and broker portals,...",
          "Type: contracts<br>Text: 3. **Updates and Upgrades**: EverGuard Insurance will receive all platform updates and upgrades at n...",
          "Type: contracts<br>Text: --- \n\nThis contract seeks to foster a strong partnership between Insurellm and EverGuard Insurance, ...",
          "Type: contracts<br>Text: # Contract with GreenField Holdings for Markellm\n\n**Effective Date:** November 15, 2023  \n**Contract...",
          "Type: contracts<br>Text: ## Renewal\n1. **Automatic Renewal**: This contract will automatically renew for sequential one-year ...",
          "Type: contracts<br>Text: ## Features\n1. **AI-Powered Matching**: Access to advanced algorithms that connect GreenField Holdin...",
          "Type: contracts<br>Text: ## Support\n1. **Customer Support Access**: The Client will have access to dedicated support through ...",
          "Type: contracts<br>Text: ## Pricing\n- **Basic Listing Fee**: GreenField Holdings agrees to pay a monthly fee of $199 for a fe...",
          "Type: contracts<br>Text: # Contract with Greenstone Insurance for Homellm\n\n---\n\n## Terms\n\n1. **Parties**: This Contract (\"Agr...",
          "Type: contracts<br>Text: 4. **Payment Terms**: \n   - The Customer shall pay an amount of $10,000 per month for the Standard T...",
          "Type: contracts<br>Text: ---\n\n## Features\n\n- **AI-Powered Risk Assessment**: Customer will have access to enhanced risk evalu...",
          "Type: contracts<br>Text: - **Multi-Channel Integration**: Homellm will integrate with the Customer's existing platforms to cr...",
          "Type: contracts<br>Text: --- \n\n**AGREEMENT SIGNATURES**\n\nBy signing below, the parties acknowledge their acceptance of the te...",
          "Type: contracts<br>Text: # Contract with GreenValley Insurance for Homellm\n\n**Contract Date:** October 6, 2023  \n**Contract N...",
          "Type: contracts<br>Text: 3. **Payment:** GreenValley Insurance shall pay a monthly fee of $10,000, due by the 5th of every mo...",
          "Type: contracts<br>Text: ---\n\n## Features\n\nGreenValley Insurance will receive the following features with Homellm:\n\n1. **AI-P...",
          "Type: contracts<br>Text: 6. **Customer Portal:** A user-friendly portal for their customers for policy and claims management....",
          "Type: contracts<br>Text: ---\n\n**Signatures:**\n\n_________________________________  \n**[Name]**  \n**Title**: CEO  \n**Insurellm,...",
          "Type: contracts<br>Text: # Contract with Pinnacle Insurance Co. for Homellm\n\n## Terms\nThis contract (\"Contract\") is entered i...",
          "Type: contracts<br>Text: 1. **License Grant**: Insurellm hereby grants the Client a non-exclusive, non-transferable license t...",
          "Type: contracts<br>Text: ## Renewal\n1. **Renewal Terms**: At the end of the initial term, this Contract shall automatically r...",
          "Type: contracts<br>Text: ## Features\n1. **AI-Powered Risk Assessment**: Utilized for tailored underwriting decisions specific...",
          "Type: contracts<br>Text: 5. **Multi-Channel Integration**: Seamless access to customer data through existing systems in Pinna...",
          "Type: contracts<br>Text: ## Support\n1. **Technical Support**: Insurellm shall provide 24/7 technical support via an email and...",
          "Type: contracts<br>Text: ____  \n**Insurellm Authorized Signature**  \nName: Sarah Johnson  \nTitle: VP of Sales  \nDate: _______...",
          "Type: contracts<br>Text: # Contract with Roadway Insurance Inc. for Carllm\n\n---\n\n## Terms\n\n1. **Agreement Effective Date**: T...",
          "Type: contracts<br>Text: ---\n\n## Renewal\n\n1. **Automatic Renewal**: This agreement will automatically renew for an additional...",
          "Type: contracts<br>Text: ---\n\n## Features\n\n1. **Access to Core Features**: Roadway Insurance Inc. will have access to all Pro...",
          "Type: contracts<br>Text: ---\n\n## Support\n\n1. **Technical Support**: Roadway Insurance Inc. will receive priority technical su...",
          "Type: contracts<br>Text: # Contract with Stellar Insurance Co. for Rellm\n\n## Terms\nThis contract is made between **Insurellm*...",
          "Type: contracts<br>Text: ### Payment Terms\nStellar Insurance Co. agrees to pay Insurellm a monthly subscription fee of **$10,...",
          "Type: contracts<br>Text: ## Features\nStellar Insurance Co. will receive access to the following features of the Rellm product...",
          "Type: contracts<br>Text: ## Support\nInsurellm provides Stellar Insurance Co. with the following support services:\n\n- **24/7 T...",
          "Type: contracts<br>Text: **For Insurellm**  \n______________________________  \n[Signature]  \n[Name, Title]  \n[Date]  \n\n**For S...",
          "Type: contracts<br>Text: # Contract with TechDrive Insurance for Carllm\n\n**Contract Date:** October 1, 2024  \n**Contract Dura...",
          "Type: contracts<br>Text: **Contract Date:** October 1, 2024  \n**Contract Duration:** 12 months\n\n---\n\n## Terms\n\n1. **Parties I...",
          "Type: contracts<br>Text: ## Renewal\n\n1. **Automatic Renewal**: This contract shall automatically renew for additional one-yea...",
          "Type: contracts<br>Text: 2. **System Requirements**: TechDrive Insurance must ensure that their existing systems meet the tec...",
          "Type: contracts<br>Text: 3. **System Updates**: The Provider will push regular updates to improve system performance and add ...",
          "Type: contracts<br>Text: # Contract with Velocity Auto Solutions for Carllm\n\n**Contract Date:** October 1, 2023  \n**Contract ...",
          "Type: contracts<br>Text: ---\n\n## Terms\n\n1. **Duration**: This contract is effective for a period of 12 months from the contra...",
          "Type: contracts<br>Text: ## Renewal\n\n1. **Automatic Renewal**: This contract will automatically renew for successive 12-month...",
          "Type: contracts<br>Text: 2. **Feature Enhancements**: Velocity Auto Solutions will receive updates to the Carllm product as o...",
          "Type: contracts<br>Text: ---\n\n**Accepted and Agreed:**  \n**For Velocity Auto Solutions**  \nSignature: _____________________  ...",
          "Type: employees<br>Text: # HR Record\n\n# Alex Chen\n\n## Summary\n- **Date of Birth:** March 15, 1990  \n- **Job Title:** Backend ...",
          "Type: employees<br>Text: ## Annual Performance History\n- **2020:**  \n  - Completed onboarding successfully.  \n  - Met expecta...",
          "Type: employees<br>Text: ## Compensation History\n- **2020:** Base Salary: $80,000  \n- **2021:** Base Salary Increase to $90,0...",
          "Type: employees<br>Text: ## Other HR Notes\n- Participates regularly in Insurellm's Diversity & Inclusion initiatives, champio...",
          "Type: employees<br>Text: # HR Record\n\n# Alex Harper\n\n## Summary\n- **Date of Birth**: March 15, 1993  \n- **Job Title**: Sales ...",
          "Type: employees<br>Text: ## Annual Performance History  \n- **2021**:  \n  - **Performance Rating**: 4.5/5  \n  - **Key Achievem...",
          "Type: employees<br>Text: ## Compensation History  \n- **2021**:  \n  - **Base Salary**: $55,000  \n  - **Bonus**: $5,500 (10% of...",
          "Type: employees<br>Text: - **Awards**:  \n  - Insurellm \"SDR of the Year\" Award (2022)  \n  - Monthly MVP Recognition (3 times ...",
          "Type: employees<br>Text: # HR Record\n\n# Alex Thomson\n\n## Summary\n- **Date of Birth:** March 15, 1995  \n- **Job Title:** Sales...",
          "Type: employees<br>Text: ## Insurellm Career Progression\n- **November 2022** - Joined Insurellm as a Sales Development Repres...",
          "Type: employees<br>Text: ## Annual Performance History  \n- **2022** - Rated as \"Exceeds Expectations.\" Alex Thomson achieved ...",
          "Type: employees<br>Text: ## Compensation History\n- **2022**: Base Salary - $55,000 | Bonus - $5,000  \n- **2023**: Base Salary...",
          "Type: employees<br>Text: ## Other HR Notes\n- Alex Thomson is an active member of the Diversity and Inclusion committee at Ins...",
          "Type: employees<br>Text: # Avery Lancaster\n\n## Summary\n- **Date of Birth**: March 15, 1985  \n- **Job Title**: Co-Founder & Ch...",
          "Type: employees<br>Text: - **2013 - 2015**: Senior Product Manager at Innovate Insurance Solutions  \n  Before launching Insur...",
          "Type: employees<br>Text: - **2016**: **Meets Expectations**  \n  Growth continued, though challenges arose in operational effi...",
          "Type: employees<br>Text: - **2020**: **Below Expectations**  \n  The COVID-19 pandemic posed unforeseen operational difficulti...",
          "Type: employees<br>Text: - **2023**: **Exceeds Expectations**  \n  Market leadership was regained with innovative approaches t...",
          "Type: employees<br>Text: ## Compensation History\n- **2015**: $150,000 base salary + Significant equity stake  \n- **2016**: $1...",
          "Type: employees<br>Text: ## Other HR Notes\n- **Professional Development**: Avery has actively participated in leadership trai...",
          "Type: employees<br>Text: Avery Lancaster has demonstrated resilience and adaptability throughout her career at Insurellm, pos...",
          "Type: employees<br>Text: # HR Record\n\n# Emily Carter\n\n## Summary\n- **Date of Birth:** August 12, 1990  \n- **Job Title:** Acco...",
          "Type: employees<br>Text: ## Insurellm Career Progression\n- **2021-Present:** Account Executive  \n  - Responsibilities include...",
          "Type: employees<br>Text: - **2017-2019:** Marketing Intern  \n  - Assisted with market research and campaign development for s...",
          "Type: employees<br>Text: ## Compensation History\n| Year | Base Salary | Bonus         | Total Compensation |\n|------|--------...",
          "Type: employees<br>Text: ## Other HR Notes\n- **Professional Development:** Emily is currently enrolled in a leadership traini...",
          "Type: employees<br>Text: # HR Record\n\n# Emily Tran\n\n## Summary\n- **Date of Birth:** March 18, 1991  \n- **Job Title:** Digital...",
          "Type: employees<br>Text: - **January 2017 - May 2018**: Marketing Intern  \n  - Supported the Marketing team by collaborating ...",
          "Type: employees<br>Text: - **2021**:  \n  - Performance Rating: Meets Expectations  \n  - Key Achievements: Contributed to the ...",
          "Type: employees<br>Text: - **Professional Development Goals**:  \n  - Emily Tran aims to become a Marketing Manager within the...",
          "Type: employees<br>Text: # HR Record\n\n# Jordan Blake\n\n## Summary\n- **Date of Birth:** March 15, 1993  \n- **Job Title:** Sales...",
          "Type: employees<br>Text: ## Annual Performance History\n- **2021:** First year at Insurellm; achieved 90% of monthly targets. ...",
          "Type: employees<br>Text: ## Compensation History\n- **2021-06:** Starting Salary: $50,000  \n- **2022-04:** Merit-based increas...",
          "Type: employees<br>Text: ## Other HR Notes\n- Jordan has shown an interest in continuing education, actively participating in ...",
          "Type: employees<br>Text: # HR Record\n\n# Jordan K. Bishop\n\n## Summary\n- **Date of Birth:** March 15, 1990\n- **Job Title:** Fro...",
          "Type: employees<br>Text: ## Insurellm Career Progression\n- **June 2018:** Hired as a Frontend Software Engineer.\n- **August 2...",
          "Type: employees<br>Text: ## Annual Performance History\n- **2019:** Exceeds Expectations - Continuously delivered high-quality...",
          "Type: employees<br>Text: ## Compensation History\n- **June 2018:** Starting Salary - $85,000\n- **June 2019:** Salary Increase ...",
          "Type: employees<br>Text: ## Other HR Notes\n- Jordan K. Bishop has been an integral part of club initiatives, including the In...",
          "Type: employees<br>Text: # HR Record\n\n# Maxine Thompson\n\n## Summary\n- **Date of Birth:** January 15, 1991  \n- **Job Title:** ...",
          "Type: employees<br>Text: ## Insurellm Career Progression\n- **January 2017 - October 2018**: **Junior Data Engineer**  \n  * Ma...",
          "Type: employees<br>Text: - **January 2021 - Present**: **Senior Data Engineer**  \n  * Maxine was promoted to Senior Data Engi...",
          "Type: employees<br>Text: ## Annual Performance History\n- **2017**: *Meets Expectations*  \n  Maxine showed potential in her ro...",
          "Type: employees<br>Text: - **2020**: *Meets Expectations*  \n  Maxine focused on regaining her footing and excelling with tech...",
          "Type: employees<br>Text: - **2023**: *Exceeds Expectations*  \n  Maxine has taken on mentoring responsibilities and is leading...",
          "Type: employees<br>Text: ## Other HR Notes\n- Maxine participated in various company-sponsored trainings related to big data t...",
          "Type: employees<br>Text: # HR Record\n\n# Oliver Spencer\n\n## Summary\n- **Date of Birth**: May 14, 1990  \n- **Job Title**: Backe...",
          "Type: employees<br>Text: ## Insurellm Career Progression\n- **March 2018**: Joined Insurellm as a Backend Developer I, focusin...",
          "Type: employees<br>Text: ## Annual Performance History\n- **2018**: **3/5** - Adaptable team player but still learning to take...",
          "Type: employees<br>Text: ## Compensation History\n- **March 2018**: Initial salary of $80,000.\n- **July 2019**: Salary increas...",
          "Type: employees<br>Text: ## Other HR Notes\n- Oliver enjoys a strong rapport with team members and is known for organizing reg...",
          "Type: employees<br>Text: # Samantha Greene\n\n## Summary\n- **Date of Birth:** October 14, 1990\n- **Job Title:** HR Generalist\n-...",
          "Type: employees<br>Text: ## Summary\n- **Date of Birth:** October 14, 1990\n- **Job Title:** HR Generalist\n- **Location:** Denv...",
          "Type: employees<br>Text: ## Annual Performance History\n- **2020:** Exceeds Expectations  \n  Samantha Greene demonstrated exce...",
          "Type: employees<br>Text: - **2023:** Meets Expectations  \n  After attending workshops focused on conflict resolution, Samanth...",
          "Type: employees<br>Text: - **2023:** Base Salary - $70,000  \n  Recognized for substantial improvement in employee relations m...",
          "Type: employees<br>Text: # HR Record\n\n# Samuel Trenton\n\n## Summary\n- **Date of Birth:** April 12, 1989  \n- **Job Title:** Sen...",
          "Type: employees<br>Text: - **August 2016 - May 2018:** Junior Data Analyst  \n  *Started at Insurellm as a Junior Data Analyst...",
          "Type: employees<br>Text: - **2021:** Rating: 4.0/5  \n  *There was notable improvement in performance. Worked to enhance model...",
          "Type: employees<br>Text: - **2021:** Base Salary: $105,000 + Bonus: $12,000  \n  *Merit-based increase, reflecting consistent ...",
          "Type: employees<br>Text: - **Areas for Improvement:** Collaboration with engineering teams has been noted as an area needing ...",
          "Type: products<br>Text: # Product Summary\n\n# Carllm\n\n## Summary\n\nCarllm is an innovative auto insurance product developed by...",
          "Type: products<br>Text: ## Features\n\n- **AI-Powered Risk Assessment**: Carllm leverages artificial intelligence to analyze d...",
          "Type: products<br>Text: - **Fraud Detection**: The product incorporates advanced analytics to identify potentially fraudulen...",
          "Type: products<br>Text: ## Pricing\n\nCarllm is offered under a subscription-based pricing model tailored to meet the needs of...",
          "Type: products<br>Text: Contact our sales team for a personalized quote and discover how Carllm can transform your auto insu...",
          "Type: products<br>Text: ### Q4 2025: AI and Machine Learning Upgrades\n- Implement next-gen machine learning models for predi...",
          "Type: products<br>Text: # Product Summary\n\n# Homellm\n\n## Summary\nHomellm is an innovative home insurance product developed b...",
          "Type: products<br>Text: ## Features\n### 1. AI-Powered Risk Assessment\nHomellm utilizes sophisticated AI algorithms to analyz...",
          "Type: products<br>Text: ### 3. Instant Claim Processing\nThe AI-driven claims management system in Homellm automates the enti...",
          "Type: products<br>Text: ### 5. Multi-Channel Integration\nHomellm seamlessly integrates into existing insurance platforms, pr...",
          "Type: products<br>Text: - **Basic Tier:** Starting at $5,000/month for small insurers with basic integration features.\n- **S...",
          "Type: products<br>Text: ## Roadmap\nThe development roadmap for Homellm includes the following key milestones:\n\n- **Q1 2024:*...",
          "Type: products<br>Text: With Homellm, Insurellm is committed to transforming the landscape of home insurance, ensuring both ...",
          "Type: products<br>Text: # Product Summary\n\n# Markellm\n\n## Summary\n\nMarkellm is an innovative two-sided marketplace designed ...",
          "Type: products<br>Text: ## Features\n\n- **AI-Powered Matching**: Markellm utilizes sophisticated AI algorithms to match consu...",
          "Type: products<br>Text: - **Customized Recommendations**: Based on user profiles and preferences, Markellm provides personal...",
          "Type: products<br>Text: ## Pricing\n\nAt Markellm, we believe in transparency and flexibility. Our pricing structure is design...",
          "Type: products<br>Text: ### For Insurance Companies:\n- **Basic Listing Fee**: $199/month for a featured listing on the platf...",
          "Type: products<br>Text: ### Q3 2025\n- Initiate a comprehensive marketing campaign targeting both consumers and insurers to i...",
          "Type: products<br>Text: # Product Summary\n\n# Rellm: AI-Powered Enterprise Reinsurance Solution\n\n## Summary\n\nRellm is an inno...",
          "Type: products<br>Text: ## Features\n\n### AI-Driven Analytics\nRellm utilizes cutting-edge AI algorithms to provide predictive...",
          "Type: products<br>Text: ### Risk Assessment Module\nThe comprehensive risk assessment module within Rellm allows insurers to ...",
          "Type: products<br>Text: ### Client and Broker Portals\nRellm offers dedicated portals for both clients and brokers, facilitat...",
          "Type: products<br>Text: Join the growing number of organizations leveraging Rellm to enhance their reinsurance processes whi...",
          "Type: products<br>Text: - **Q3 2026**: \n  - Release of a community platform for Rellm users to exchange insights, tips, and ..."
         ],
         "type": "scatter",
         "x": {
          "bdata": "t72Xv/IRTsBCL6lAAZrrQHQbnUEBg0LAtISXQAkDMEHnWAVBMDSDQeUQrEFflUhAwC0PQc3hFUF4XmVB3NqSQeX03j/TgF1BUn8nQT8pqkAXzRRB6Yo8QCvnk0C+lcpABSC4QC6H2kBZK69BjyZiPu1ZYsDEYyG/c71WQRnsmkEWkWFAZf6yQMD0NkGY2mhBc8Z5QWMEm0D1McpAVsg/Qd+UDUFdxHZBKUenQRD4L0DQdnpAM2r3QGqmB0Eyx4BB+3elQYKtXz/zIyNBSa9CQVj3OkE7Z8k9fF0nQQ94HUHYhWBBm1xRQRyOj0FVjRtB35k1QVY9a0Hq3VNB0nyaQbjaOkHzHztBegENwbGDZMGj27HBdY7QwBokL8FxNR/BdaaZwRlpCMGJVT/BW70VwZ9VHsHelrfBJTwhwQUVOsCbJ43AXAmuwIu35MAULVDAZfulwdABzsB9IjrAVjtrwQK3MsE6l/fATO2rwdTNr8Atj5bAaX+/wAK6isHgj4/AJGocwafCAcEXkqbBElvUwEm6LMEjGPHAM/pDwegkssFA85/AKJ1ewVFSWcG5uWXBYI1uwRK9SsHc1YHBWrRRwbYJSsGlZgDBKYVPwUm0vMGLmM3A5EJywdMndcH8iYDB/MKZwbaCi8EC9R7BXPkxwabYlME+RpTBeUJJwZAwO0AiQUc/sUUnQMNuB0GLzvNARtBOPk2OskCDFQZAWif/P8XIvEBgQM5AgTFyQPZgq0DJIwNA7xwdP9MLGUAzIPo/vs27PsXOxr431Wq/QOgQwAKIUD8NQYpAiWvQv5P3qb+3vZe/8hFOwEIvqUABmutAdBudQQGDQsC0hJdACQMwQedYBUEwNINB5RCsQV+VSEDALQ9BzeEVQXheZUHc2pJB5fTeP9OAXUFSfydBPymqQBfNFEHpijxAK+eTQL6VykAFILhALofaQFkrr0GPJmI+7VliwMRjIb9zvVZBGeyaQRaRYUBl/rJAwPQ2QZjaaEFzxnlBYwSbQPUxykBWyD9B35QNQV3EdkEpR6dBEPgvQNB2ekAzavdAaqYHQTLHgEH7d6VBgq1fP/MjI0FJr0JBWPc6QTtnyT18XSdBD3gdQdiFYEGbXFFBHI6PQVWNG0HfmTVBVj1rQerdU0HSfJpBuNo6QfMfO0F6AQ3BsYNkwaPbscF1jtDAGiQvwXE1H8F1ppnBGWkIwYlVP8FbvRXBn1Uewd6Wt8ElPCHBBRU6wJsnjcBcCa7Ai7fkwBQtUMBl+6XB0AHOwH0iOsBWO2vBArcywTqX98BM7avB1M2vwC2PlsBpf7/AArqKweCPj8AkahzBp8IBwReSpsESW9TASboswSMY8cAz+kPB6CSywUDzn8AonV7BUVJZwbm5ZcFgjW7BEr1KwdzVgcFatFHBtglKwaVmAMEphU/BSbS8wYuYzcDkQnLB0yd1wfyJgMH8wpnBtoKLwQL1HsFc+THBptiUwT5GlMF5QknBkDA7QCJBRz+xRSdAw24HQYvO80BG0E4+TY6yQIMVBkBaJ/8/xci8QGBAzkCBMXJA9mCrQMkjA0DvHB0/0wsZQDMg+j++zbs+xc7GvjfVar9A6BDAAohQPw1BikCJa9C/k/epvw==",
          "dtype": "f4"
         },
         "y": {
          "bdata": "S+IFwCrQ4cAj+QHBfJkpQZE/pz8AoN9AhpNsQIzGyj6RpfRAaMHQP7AVGkDwJ78/Njd5P6wRt0B/cvo/xp04QAmxJkB/QxY/TrADQDOpJkHkOzpBKPQFQQjL70Cy485A24gMQfhWkkCoMys/JE8TPkpmOUHsHE9BYhaoQK0ukUCFEzLAzb/sP+CqjkA9i9lAi8fHQNZEA8D9A1C/nuooQKm77r+4bh9BJlW4P8KzkL9aaaO+J/KSP4KoUkA8z4XAKXugvtmFzb+wF9PAKe8QQaBvJkHhz9VA51kFQdWDaECKfJrABBB/wMuZEMBD4ALBF4CfwC8B28AOgQHBiTe4vqp+DcGJKs2/L+2dwLaF3kB3N3E/FBpzwCbo4r5LhpJAoyRwv8PPGsEyBxTBTyJJv37D50DhqzG+LDgewJlyYL+lFbQ+ccpNQJdgmUBxp6M/mxhqPrHQ7D//e0fAStEvwaZpUECMVwxBzd9Mv9IBO8E9Q7TAzau/wLxfTr/m8CPBQnDtwJ7ugD8yNRHAH9r/wFwcPcHfagbA6ODOQI8CT8CkWCjA9zUQwc8duMBU4ZnAOvgJwD2agsBh6ZXARD8dwBuSNcECoFPA6E+XQP+TBMBb71+/dKfqPmZcAUDj9YNAWhsKQGX6DUAztME/NxWswGjwH8BOgo7AYyecPz+PKMGbig3BC1MGwcY1pcA0rOTAE4bjwHYxmMDd+m3AOSOwwLTlVMCdsS/BGbWhwAlkvsBQDIhAYdH9P3sNtEAAaT1BoJsxQaRco8CXBqRAIm+1QD0zAkEi5FlBrEhZQHGdBUFL4gXAKtDhwCP5AcF8mSlBkT+nPwCg30CGk2xAjMbKPpGl9EBowdA/sBUaQPAnvz82N3k/rBG3QH9y+j/GnThACbEmQH9DFj9OsANAM6kmQeQ7OkEo9AVBCMvvQLLjzkDbiAxB+FaSQKgzKz8kTxM+SmY5QewcT0FiFqhArS6RQIUTMsDNv+w/4KqOQD2L2UCLx8dA1kQDwP0DUL+e6ihAqbvuv7huH0EmVbg/wrOQv1ppo74n8pI/gqhSQDzPhcApe6C+2YXNv7AX08Ap7xBBoG8mQeHP1UDnWQVB1YNoQIp8msAEEH/Ay5kQwEPgAsEXgJ/ALwHbwA6BAcGJN7i+qn4NwYkqzb8v7Z3AtoXeQHc3cT8UGnPAJujivkuGkkCjJHC/w88awTIHFMFPIkm/fsPnQOGrMb4sOB7AmXJgv6UVtD5xyk1Al2CZQHGnoz+bGGo+sdDsP/97R8BK0S/BpmlQQIxXDEHN30y/0gE7wT1DtMDNq7/AvF9Ov+bwI8FCcO3Anu6APzI1EcAf2v/AXBw9wd9qBsDo4M5AjwJPwKRYKMD3NRDBzx24wFThmcA6+AnAPZqCwGHplcBEPx3AG5I1wQKgU8DoT5dA/5MEwFvvX790p+o+ZlwBQOP1g0BaGwpAZfoNQDO0wT83FazAaPAfwE6CjsBjJ5w/P48owZuKDcELUwbBxjWlwDSs5MAThuPAdjGYwN36bcA5I7DAtOVUwJ2xL8EZtaHACWS+wFAMiEBh0f0/ew20QABpPUGgmzFBpFyjwJcGpEAib7VAPTMCQSLkWUGsSFlAcZ0FQQ==",
          "dtype": "f4"
         }
        }
       ],
       "layout": {
        "height": 600,
        "template": {
         "data": {
          "bar": [
           {
            "error_x": {
             "color": "#2a3f5f"
            },
            "error_y": {
             "color": "#2a3f5f"
            },
            "marker": {
             "line": {
              "color": "#E5ECF6",
              "width": 0.5
             },
             "pattern": {
              "fillmode": "overlay",
              "size": 10,
              "solidity": 0.2
             }
            },
            "type": "bar"
           }
          ],
          "barpolar": [
           {
            "marker": {
             "line": {
              "color": "#E5ECF6",
              "width": 0.5
             },
             "pattern": {
              "fillmode": "overlay",
              "size": 10,
              "solidity": 0.2
             }
            },
            "type": "barpolar"
           }
          ],
          "carpet": [
           {
            "aaxis": {
             "endlinecolor": "#2a3f5f",
             "gridcolor": "white",
             "linecolor": "white",
             "minorgridcolor": "white",
             "startlinecolor": "#2a3f5f"
            },
            "baxis": {
             "endlinecolor": "#2a3f5f",
             "gridcolor": "white",
             "linecolor": "white",
             "minorgridcolor": "white",
             "startlinecolor": "#2a3f5f"
            },
            "type": "carpet"
           }
          ],
          "choropleth": [
           {
            "colorbar": {
             "outlinewidth": 0,
             "ticks": ""
            },
            "type": "choropleth"
           }
          ],
          "contour": [
           {
            "colorbar": {
             "outlinewidth": 0,
             "ticks": ""
            },
            "colorscale": [
             [
              0,
              "#0d0887"
             ],
             [
              0.1111111111111111,
              "#46039f"
             ],
             [
              0.2222222222222222,
              "#7201a8"
             ],
             [
              0.3333333333333333,
              "#9c179e"
             ],
             [
              0.4444444444444444,
              "#bd3786"
             ],
             [
              0.5555555555555556,
              "#d8576b"
             ],
             [
              0.6666666666666666,
              "#ed7953"
             ],
             [
              0.7777777777777778,
              "#fb9f3a"
             ],
             [
              0.8888888888888888,
              "#fdca26"
             ],
             [
              1,
              "#f0f921"
             ]
            ],
            "type": "contour"
           }
          ],
          "contourcarpet": [
           {
            "colorbar": {
             "outlinewidth": 0,
             "ticks": ""
            },
            "type": "contourcarpet"
           }
          ],
          "heatmap": [
           {
            "colorbar": {
             "outlinewidth": 0,
             "ticks": ""
            },
            "colorscale": [
             [
              0,
              "#0d0887"
             ],
             [
              0.1111111111111111,
              "#46039f"
             ],
             [
              0.2222222222222222,
              "#7201a8"
             ],
             [
              0.3333333333333333,
              "#9c179e"
             ],
             [
              0.4444444444444444,
              "#bd3786"
             ],
             [
              0.5555555555555556,
              "#d8576b"
             ],
             [
              0.6666666666666666,
              "#ed7953"
             ],
             [
              0.7777777777777778,
              "#fb9f3a"
             ],
             [
              0.8888888888888888,
              "#fdca26"
             ],
             [
              1,
              "#f0f921"
             ]
            ],
            "type": "heatmap"
           }
          ],
          "histogram": [
           {
            "marker": {
             "pattern": {
              "fillmode": "overlay",
              "size": 10,
              "solidity": 0.2
             }
            },
            "type": "histogram"
           }
          ],
          "histogram2d": [
           {
            "colorbar": {
             "outlinewidth": 0,
             "ticks": ""
            },
            "colorscale": [
             [
              0,
              "#0d0887"
             ],
             [
              0.1111111111111111,
              "#46039f"
             ],
             [
              0.2222222222222222,
              "#7201a8"
             ],
             [
              0.3333333333333333,
              "#9c179e"
             ],
             [
              0.4444444444444444,
              "#bd3786"
             ],
             [
              0.5555555555555556,
              "#d8576b"
             ],
             [
              0.6666666666666666,
              "#ed7953"
             ],
             [
              0.7777777777777778,
              "#fb9f3a"
             ],
             [
              0.8888888888888888,
              "#fdca26"
             ],
             [
              1,
              "#f0f921"
             ]
            ],
            "type": "histogram2d"
           }
          ],
          "histogram2dcontour": [
           {
            "colorbar": {
             "outlinewidth": 0,
             "ticks": ""
            },
            "colorscale": [
             [
              0,
              "#0d0887"
             ],
             [
              0.1111111111111111,
              "#46039f"
             ],
             [
              0.2222222222222222,
              "#7201a8"
             ],
             [
              0.3333333333333333,
              "#9c179e"
             ],
             [
              0.4444444444444444,
              "#bd3786"
             ],
             [
              0.5555555555555556,
              "#d8576b"
             ],
             [
              0.6666666666666666,
              "#ed7953"
             ],
             [
              0.7777777777777778,
              "#fb9f3a"
             ],
             [
              0.8888888888888888,
              "#fdca26"
             ],
             [
              1,
              "#f0f921"
             ]
            ],
            "type": "histogram2dcontour"
           }
          ],
          "mesh3d": [
           {
            "colorbar": {
             "outlinewidth": 0,
             "ticks": ""
            },
            "type": "mesh3d"
           }
          ],
          "parcoords": [
           {
            "line": {
             "colorbar": {
              "outlinewidth": 0,
              "ticks": ""
             }
            },
            "type": "parcoords"
           }
          ],
          "pie": [
           {
            "automargin": true,
            "type": "pie"
           }
          ],
          "scatter": [
           {
            "fillpattern": {
             "fillmode": "overlay",
             "size": 10,
             "solidity": 0.2
            },
            "type": "scatter"
           }
          ],
          "scatter3d": [
           {
            "line": {
             "colorbar": {
              "outlinewidth": 0,
              "ticks": ""
             }
            },
            "marker": {
             "colorbar": {
              "outlinewidth": 0,
              "ticks": ""
             }
            },
            "type": "scatter3d"
           }
          ],
          "scattercarpet": [
           {
            "marker": {
             "colorbar": {
              "outlinewidth": 0,
              "ticks": ""
             }
            },
            "type": "scattercarpet"
           }
          ],
          "scattergeo": [
           {
            "marker": {
             "colorbar": {
              "outlinewidth": 0,
              "ticks": ""
             }
            },
            "type": "scattergeo"
           }
          ],
          "scattergl": [
           {
            "marker": {
             "colorbar": {
              "outlinewidth": 0,
              "ticks": ""
             }
            },
            "type": "scattergl"
           }
          ],
          "scattermap": [
           {
            "marker": {
             "colorbar": {
              "outlinewidth": 0,
              "ticks": ""
             }
            },
            "type": "scattermap"
           }
          ],
          "scattermapbox": [
           {
            "marker": {
             "colorbar": {
              "outlinewidth": 0,
              "ticks": ""
             }
            },
            "type": "scattermapbox"
           }
          ],
          "scatterpolar": [
           {
            "marker": {
             "colorbar": {
              "outlinewidth": 0,
              "ticks": ""
             }
            },
            "type": "scatterpolar"
           }
          ],
          "scatterpolargl": [
           {
            "marker": {
             "colorbar": {
              "outlinewidth": 0,
              "ticks": ""
             }
            },
            "type": "scatterpolargl"
           }
          ],
          "scatterternary": [
           {
            "marker": {
             "colorbar": {
              "outlinewidth": 0,
              "ticks": ""
             }
            },
            "type": "scatterternary"
           }
          ],
          "surface": [
           {
            "colorbar": {
             "outlinewidth": 0,
             "ticks": ""
            },
            "colorscale": [
             [
              0,
              "#0d0887"
             ],
             [
              0.1111111111111111,
              "#46039f"
             ],
             [
              0.2222222222222222,
              "#7201a8"
             ],
             [
              0.3333333333333333,
              "#9c179e"
             ],
             [
              0.4444444444444444,
              "#bd3786"
             ],
             [
              0.5555555555555556,
              "#d8576b"
             ],
             [
              0.6666666666666666,
              "#ed7953"
             ],
             [
              0.7777777777777778,
              "#fb9f3a"
             ],
             [
              0.8888888888888888,
              "#fdca26"
             ],
             [
              1,
              "#f0f921"
             ]
            ],
            "type": "surface"
           }
          ],
          "table": [
           {
            "cells": {
             "fill": {
              "color": "#EBF0F8"
             },
             "line": {
              "color": "white"
             }
            },
            "header": {
             "fill": {
              "color": "#C8D4E3"
             },
             "line": {
              "color": "white"
             }
            },
            "type": "table"
           }
          ]
         },
         "layout": {
          "annotationdefaults": {
           "arrowcolor": "#2a3f5f",
           "arrowhead": 0,
           "arrowwidth": 1
          },
          "autotypenumbers": "strict",
          "coloraxis": {
           "colorbar": {
            "outlinewidth": 0,
            "ticks": ""
           }
          },
          "colorscale": {
           "diverging": [
            [
             0,
             "#8e0152"
            ],
            [
             0.1,
             "#c51b7d"
            ],
            [
             0.2,
             "#de77ae"
            ],
            [
             0.3,
             "#f1b6da"
            ],
            [
             0.4,
             "#fde0ef"
            ],
            [
             0.5,
             "#f7f7f7"
            ],
            [
             0.6,
             "#e6f5d0"
            ],
            [
             0.7,
             "#b8e186"
            ],
            [
             0.8,
             "#7fbc41"
            ],
            [
             0.9,
             "#4d9221"
            ],
            [
             1,
             "#276419"
            ]
           ],
           "sequential": [
            [
             0,
             "#0d0887"
            ],
            [
             0.1111111111111111,
             "#46039f"
            ],
            [
             0.2222222222222222,
             "#7201a8"
            ],
            [
             0.3333333333333333,
             "#9c179e"
            ],
            [
             0.4444444444444444,
             "#bd3786"
            ],
            [
             0.5555555555555556,
             "#d8576b"
            ],
            [
             0.6666666666666666,
             "#ed7953"
            ],
            [
             0.7777777777777778,
             "#fb9f3a"
            ],
            [
             0.8888888888888888,
             "#fdca26"
            ],
            [
             1,
             "#f0f921"
            ]
           ],
           "sequentialminus": [
            [
             0,
             "#0d0887"
            ],
            [
             0.1111111111111111,
             "#46039f"
            ],
            [
             0.2222222222222222,
             "#7201a8"
            ],
            [
             0.3333333333333333,
             "#9c179e"
            ],
            [
             0.4444444444444444,
             "#bd3786"
            ],
            [
             0.5555555555555556,
             "#d8576b"
            ],
            [
             0.6666666666666666,
             "#ed7953"
            ],
            [
             0.7777777777777778,
             "#fb9f3a"
            ],
            [
             0.8888888888888888,
             "#fdca26"
            ],
            [
             1,
             "#f0f921"
            ]
           ]
          },
          "colorway": [
           "#636efa",
           "#EF553B",
           "#00cc96",
           "#ab63fa",
           "#FFA15A",
           "#19d3f3",
           "#FF6692",
           "#B6E880",
           "#FF97FF",
           "#FECB52"
          ],
          "font": {
           "color": "#2a3f5f"
          },
          "geo": {
           "bgcolor": "white",
           "lakecolor": "white",
           "landcolor": "#E5ECF6",
           "showlakes": true,
           "showland": true,
           "subunitcolor": "white"
          },
          "hoverlabel": {
           "align": "left"
          },
          "hovermode": "closest",
          "mapbox": {
           "style": "light"
          },
          "paper_bgcolor": "white",
          "plot_bgcolor": "#E5ECF6",
          "polar": {
           "angularaxis": {
            "gridcolor": "white",
            "linecolor": "white",
            "ticks": ""
           },
           "bgcolor": "#E5ECF6",
           "radialaxis": {
            "gridcolor": "white",
            "linecolor": "white",
            "ticks": ""
           }
          },
          "scene": {
           "xaxis": {
            "backgroundcolor": "#E5ECF6",
            "gridcolor": "white",
            "gridwidth": 2,
            "linecolor": "white",
            "showbackground": true,
            "ticks": "",
            "zerolinecolor": "white"
           },
           "yaxis": {
            "backgroundcolor": "#E5ECF6",
            "gridcolor": "white",
            "gridwidth": 2,
            "linecolor": "white",
            "showbackground": true,
            "ticks": "",
            "zerolinecolor": "white"
           },
           "zaxis": {
            "backgroundcolor": "#E5ECF6",
            "gridcolor": "white",
            "gridwidth": 2,
            "linecolor": "white",
            "showbackground": true,
            "ticks": "",
            "zerolinecolor": "white"
           }
          },
          "shapedefaults": {
           "line": {
            "color": "#2a3f5f"
           }
          },
          "ternary": {
           "aaxis": {
            "gridcolor": "white",
            "linecolor": "white",
            "ticks": ""
           },
           "baxis": {
            "gridcolor": "white",
            "linecolor": "white",
            "ticks": ""
           },
           "bgcolor": "#E5ECF6",
           "caxis": {
            "gridcolor": "white",
            "linecolor": "white",
            "ticks": ""
           }
          },
          "title": {
           "x": 0.05
          },
          "xaxis": {
           "automargin": true,
           "gridcolor": "white",
           "linecolor": "white",
           "ticks": "",
           "title": {
            "standoff": 15
           },
           "zerolinecolor": "white",
           "zerolinewidth": 2
          },
          "yaxis": {
           "automargin": true,
           "gridcolor": "white",
           "linecolor": "white",
           "ticks": "",
           "title": {
            "standoff": 15
           },
           "zerolinecolor": "white",
           "zerolinewidth": 2
          }
         }
        },
        "title": {
         "text": "2D Vector Store Visualization (t-SNE)"
        },
        "width": 800
       }
      }
     },
     "metadata": {},
     "output_type": "display_data"
    },
    {
     "name": "stdout",
     "output_type": "stream",
     "text": [
      "   Generating 3D plot...\n"
     ]
    },
    {
     "data": {
      "application/vnd.plotly.v1+json": {
       "config": {
        "plotlyServerURL": "https://plot.ly"
       },
       "data": [
        {
         "hoverinfo": "text",
         "marker": {
          "color": [
           "orange",
           "orange",
           "orange",
           "red",
           "red",
           "red",
           "red",
           "red",
           "red",
           "red",
           "red",
           "red",
           "red",
           "red",
           "red",
           "red",
           "red",
           "red",
           "red",
           "red",
           "red",
           "red",
           "red",
           "red",
           "red",
           "red",
           "red",
           "red",
           "red",
           "red",
           "red",
           "red",
           "red",
           "red",
           "red",
           "red",
           "red",
           "red",
           "red",
           "red",
           "red",
           "red",
           "red",
           "red",
           "red",
           "red",
           "red",
           "red",
           "red",
           "red",
           "red",
           "red",
           "red",
           "red",
           "red",
           "red",
           "red",
           "red",
           "red",
           "red",
           "red",
           "red",
           "red",
           "red",
           "red",
           "red",
           "green",
           "green",
           "green",
           "green",
           "green",
           "green",
           "green",
           "green",
           "green",
           "green",
           "green",
           "green",
           "green",
           "green",
           "green",
           "green",
           "green",
           "green",
           "green",
           "green",
           "green",
           "green",
           "green",
           "green",
           "green",
           "green",
           "green",
           "green",
           "green",
           "green",
           "green",
           "green",
           "green",
           "green",
           "green",
           "green",
           "green",
           "green",
           "green",
           "green",
           "green",
           "green",
           "green",
           "green",
           "green",
           "green",
           "green",
           "green",
           "green",
           "green",
           "green",
           "green",
           "green",
           "green",
           "green",
           "green",
           "green",
           "green",
           "green",
           "green",
           "green",
           "blue",
           "blue",
           "blue",
           "blue",
           "blue",
           "blue",
           "blue",
           "blue",
           "blue",
           "blue",
           "blue",
           "blue",
           "blue",
           "blue",
           "blue",
           "blue",
           "blue",
           "blue",
           "blue",
           "blue",
           "blue",
           "blue",
           "blue",
           "blue",
           "blue",
           "orange",
           "orange",
           "orange",
           "red",
           "red",
           "red",
           "red",
           "red",
           "red",
           "red",
           "red",
           "red",
           "red",
           "red",
           "red",
           "red",
           "red",
           "red",
           "red",
           "red",
           "red",
           "red",
           "red",
           "red",
           "red",
           "red",
           "red",
           "red",
           "red",
           "red",
           "red",
           "red",
           "red",
           "red",
           "red",
           "red",
           "red",
           "red",
           "red",
           "red",
           "red",
           "red",
           "red",
           "red",
           "red",
           "red",
           "red",
           "red",
           "red",
           "red",
           "red",
           "red",
           "red",
           "red",
           "red",
           "red",
           "red",
           "red",
           "red",
           "red",
           "red",
           "red",
           "red",
           "red",
           "red",
           "red",
           "green",
           "green",
           "green",
           "green",
           "green",
           "green",
           "green",
           "green",
           "green",
           "green",
           "green",
           "green",
           "green",
           "green",
           "green",
           "green",
           "green",
           "green",
           "green",
           "green",
           "green",
           "green",
           "green",
           "green",
           "green",
           "green",
           "green",
           "green",
           "green",
           "green",
           "green",
           "green",
           "green",
           "green",
           "green",
           "green",
           "green",
           "green",
           "green",
           "green",
           "green",
           "green",
           "green",
           "green",
           "green",
           "green",
           "green",
           "green",
           "green",
           "green",
           "green",
           "green",
           "green",
           "green",
           "green",
           "green",
           "green",
           "green",
           "green",
           "green",
           "green",
           "blue",
           "blue",
           "blue",
           "blue",
           "blue",
           "blue",
           "blue",
           "blue",
           "blue",
           "blue",
           "blue",
           "blue",
           "blue",
           "blue",
           "blue",
           "blue",
           "blue",
           "blue",
           "blue",
           "blue",
           "blue",
           "blue",
           "blue",
           "blue",
           "blue"
          ],
          "opacity": 0.8,
          "size": 4
         },
         "mode": "markers",
         "text": [
          "Type: company<br>Text: # About Insurellm\n\nInsurellm was founded by Avery Lancaster in 2015 as an insurance tech startup des...",
          "Type: company<br>Text: # Careers at Insurellm\n\nInsurellm is hiring! We are looking for talented software engineers, data sc...",
          "Type: company<br>Text: # Overview of Insurellm\n\nInsurellm is an innovative insurance tech firm with 200 employees across th...",
          "Type: contracts<br>Text: # Contract with Apex Reinsurance for Rellm: AI-Powered Enterprise Reinsurance Solution\n\n## Terms\n\n1....",
          "Type: contracts<br>Text: 4. **Contract Duration**: This Agreement shall commence on [Start Date] and shall remain in effect f...",
          "Type: contracts<br>Text: ## Features\n\n1. **AI-Driven Analytics**: The Rellm platform will utilize AI algorithms to provide pr...",
          "Type: contracts<br>Text: 5. **Dedicated Client Portal**: A portal for the Client will facilitate real-time communication and ...",
          "Type: contracts<br>Text: 4. **Escalation Protocol**: Issues that cannot be resolved at the first level of support will be esc...",
          "Type: contracts<br>Text: # Contract with Belvedere Insurance for Markellm\n\n## Terms\nThis Contract (\"Agreement\") is made and e...",
          "Type: contracts<br>Text: 1. **Service Commencement**: The services described herein will commence on [Start Date].\n2. **Contr...",
          "Type: contracts<br>Text: ## Renewal\n1. **Renewal Terms**: This Agreement may be renewed for additional one-year terms upon mu...",
          "Type: contracts<br>Text: ## Features\n1. **AI-Powered Matching**: Belvedere Insurance will benefit from Markellm's AI-powered ...",
          "Type: contracts<br>Text: ## Support\n1. **Technical Support**: Technical support will be available from 9 AM to 7 PM EST, Mond...",
          "Type: contracts<br>Text: **Insurellm, Inc.**  \nSignature: ______________________  \nName: [Authorized Signatory]  \nTitle: [Tit...",
          "Type: contracts<br>Text: # Contract with BrightWay Solutions for Markellm\n\n**Contract Date:** October 5, 2023  \n**Contract ID...",
          "Type: contracts<br>Text: 3. **Service Level Agreement (SLA):**  \n   Insurellm commits to a 99.9% uptime for the platform with...",
          "Type: contracts<br>Text: ### Features\n1. **Access to AI-Powered Matching:**  \n   BrightWay Solutions will benefit from the AI...",
          "Type: contracts<br>Text: ### Support\n1. **Dedicated Customer Support:**  \n   BrightWay Solutions will have access to a dedica...",
          "Type: contracts<br>Text: ### Signatures\nBy signing below, both parties agree to the terms and conditions outlined in this Con...",
          "Type: contracts<br>Text: # Contract with EverGuard Insurance for Rellm: AI-Powered Enterprise Reinsurance Solution\n\n**Contrac...",
          "Type: contracts<br>Text: 3. **Payment Terms**: EverGuard Insurance agrees to pay Insurellm a monthly fee of $10,000 for the d...",
          "Type: contracts<br>Text: 2. **Price Adjustment**: In the event of a renewal, Insurellm reserves the right to adjust the month...",
          "Type: contracts<br>Text: 4. **Client Portal Access**: EverGuard Insurance will have access to both client and broker portals,...",
          "Type: contracts<br>Text: 3. **Updates and Upgrades**: EverGuard Insurance will receive all platform updates and upgrades at n...",
          "Type: contracts<br>Text: --- \n\nThis contract seeks to foster a strong partnership between Insurellm and EverGuard Insurance, ...",
          "Type: contracts<br>Text: # Contract with GreenField Holdings for Markellm\n\n**Effective Date:** November 15, 2023  \n**Contract...",
          "Type: contracts<br>Text: ## Renewal\n1. **Automatic Renewal**: This contract will automatically renew for sequential one-year ...",
          "Type: contracts<br>Text: ## Features\n1. **AI-Powered Matching**: Access to advanced algorithms that connect GreenField Holdin...",
          "Type: contracts<br>Text: ## Support\n1. **Customer Support Access**: The Client will have access to dedicated support through ...",
          "Type: contracts<br>Text: ## Pricing\n- **Basic Listing Fee**: GreenField Holdings agrees to pay a monthly fee of $199 for a fe...",
          "Type: contracts<br>Text: # Contract with Greenstone Insurance for Homellm\n\n---\n\n## Terms\n\n1. **Parties**: This Contract (\"Agr...",
          "Type: contracts<br>Text: 4. **Payment Terms**: \n   - The Customer shall pay an amount of $10,000 per month for the Standard T...",
          "Type: contracts<br>Text: ---\n\n## Features\n\n- **AI-Powered Risk Assessment**: Customer will have access to enhanced risk evalu...",
          "Type: contracts<br>Text: - **Multi-Channel Integration**: Homellm will integrate with the Customer's existing platforms to cr...",
          "Type: contracts<br>Text: --- \n\n**AGREEMENT SIGNATURES**\n\nBy signing below, the parties acknowledge their acceptance of the te...",
          "Type: contracts<br>Text: # Contract with GreenValley Insurance for Homellm\n\n**Contract Date:** October 6, 2023  \n**Contract N...",
          "Type: contracts<br>Text: 3. **Payment:** GreenValley Insurance shall pay a monthly fee of $10,000, due by the 5th of every mo...",
          "Type: contracts<br>Text: ---\n\n## Features\n\nGreenValley Insurance will receive the following features with Homellm:\n\n1. **AI-P...",
          "Type: contracts<br>Text: 6. **Customer Portal:** A user-friendly portal for their customers for policy and claims management....",
          "Type: contracts<br>Text: ---\n\n**Signatures:**\n\n_________________________________  \n**[Name]**  \n**Title**: CEO  \n**Insurellm,...",
          "Type: contracts<br>Text: # Contract with Pinnacle Insurance Co. for Homellm\n\n## Terms\nThis contract (\"Contract\") is entered i...",
          "Type: contracts<br>Text: 1. **License Grant**: Insurellm hereby grants the Client a non-exclusive, non-transferable license t...",
          "Type: contracts<br>Text: ## Renewal\n1. **Renewal Terms**: At the end of the initial term, this Contract shall automatically r...",
          "Type: contracts<br>Text: ## Features\n1. **AI-Powered Risk Assessment**: Utilized for tailored underwriting decisions specific...",
          "Type: contracts<br>Text: 5. **Multi-Channel Integration**: Seamless access to customer data through existing systems in Pinna...",
          "Type: contracts<br>Text: ## Support\n1. **Technical Support**: Insurellm shall provide 24/7 technical support via an email and...",
          "Type: contracts<br>Text: ____  \n**Insurellm Authorized Signature**  \nName: Sarah Johnson  \nTitle: VP of Sales  \nDate: _______...",
          "Type: contracts<br>Text: # Contract with Roadway Insurance Inc. for Carllm\n\n---\n\n## Terms\n\n1. **Agreement Effective Date**: T...",
          "Type: contracts<br>Text: ---\n\n## Renewal\n\n1. **Automatic Renewal**: This agreement will automatically renew for an additional...",
          "Type: contracts<br>Text: ---\n\n## Features\n\n1. **Access to Core Features**: Roadway Insurance Inc. will have access to all Pro...",
          "Type: contracts<br>Text: ---\n\n## Support\n\n1. **Technical Support**: Roadway Insurance Inc. will receive priority technical su...",
          "Type: contracts<br>Text: # Contract with Stellar Insurance Co. for Rellm\n\n## Terms\nThis contract is made between **Insurellm*...",
          "Type: contracts<br>Text: ### Payment Terms\nStellar Insurance Co. agrees to pay Insurellm a monthly subscription fee of **$10,...",
          "Type: contracts<br>Text: ## Features\nStellar Insurance Co. will receive access to the following features of the Rellm product...",
          "Type: contracts<br>Text: ## Support\nInsurellm provides Stellar Insurance Co. with the following support services:\n\n- **24/7 T...",
          "Type: contracts<br>Text: **For Insurellm**  \n______________________________  \n[Signature]  \n[Name, Title]  \n[Date]  \n\n**For S...",
          "Type: contracts<br>Text: # Contract with TechDrive Insurance for Carllm\n\n**Contract Date:** October 1, 2024  \n**Contract Dura...",
          "Type: contracts<br>Text: **Contract Date:** October 1, 2024  \n**Contract Duration:** 12 months\n\n---\n\n## Terms\n\n1. **Parties I...",
          "Type: contracts<br>Text: ## Renewal\n\n1. **Automatic Renewal**: This contract shall automatically renew for additional one-yea...",
          "Type: contracts<br>Text: 2. **System Requirements**: TechDrive Insurance must ensure that their existing systems meet the tec...",
          "Type: contracts<br>Text: 3. **System Updates**: The Provider will push regular updates to improve system performance and add ...",
          "Type: contracts<br>Text: # Contract with Velocity Auto Solutions for Carllm\n\n**Contract Date:** October 1, 2023  \n**Contract ...",
          "Type: contracts<br>Text: ---\n\n## Terms\n\n1. **Duration**: This contract is effective for a period of 12 months from the contra...",
          "Type: contracts<br>Text: ## Renewal\n\n1. **Automatic Renewal**: This contract will automatically renew for successive 12-month...",
          "Type: contracts<br>Text: 2. **Feature Enhancements**: Velocity Auto Solutions will receive updates to the Carllm product as o...",
          "Type: contracts<br>Text: ---\n\n**Accepted and Agreed:**  \n**For Velocity Auto Solutions**  \nSignature: _____________________  ...",
          "Type: employees<br>Text: # HR Record\n\n# Alex Chen\n\n## Summary\n- **Date of Birth:** March 15, 1990  \n- **Job Title:** Backend ...",
          "Type: employees<br>Text: ## Annual Performance History\n- **2020:**  \n  - Completed onboarding successfully.  \n  - Met expecta...",
          "Type: employees<br>Text: ## Compensation History\n- **2020:** Base Salary: $80,000  \n- **2021:** Base Salary Increase to $90,0...",
          "Type: employees<br>Text: ## Other HR Notes\n- Participates regularly in Insurellm's Diversity & Inclusion initiatives, champio...",
          "Type: employees<br>Text: # HR Record\n\n# Alex Harper\n\n## Summary\n- **Date of Birth**: March 15, 1993  \n- **Job Title**: Sales ...",
          "Type: employees<br>Text: ## Annual Performance History  \n- **2021**:  \n  - **Performance Rating**: 4.5/5  \n  - **Key Achievem...",
          "Type: employees<br>Text: ## Compensation History  \n- **2021**:  \n  - **Base Salary**: $55,000  \n  - **Bonus**: $5,500 (10% of...",
          "Type: employees<br>Text: - **Awards**:  \n  - Insurellm \"SDR of the Year\" Award (2022)  \n  - Monthly MVP Recognition (3 times ...",
          "Type: employees<br>Text: # HR Record\n\n# Alex Thomson\n\n## Summary\n- **Date of Birth:** March 15, 1995  \n- **Job Title:** Sales...",
          "Type: employees<br>Text: ## Insurellm Career Progression\n- **November 2022** - Joined Insurellm as a Sales Development Repres...",
          "Type: employees<br>Text: ## Annual Performance History  \n- **2022** - Rated as \"Exceeds Expectations.\" Alex Thomson achieved ...",
          "Type: employees<br>Text: ## Compensation History\n- **2022**: Base Salary - $55,000 | Bonus - $5,000  \n- **2023**: Base Salary...",
          "Type: employees<br>Text: ## Other HR Notes\n- Alex Thomson is an active member of the Diversity and Inclusion committee at Ins...",
          "Type: employees<br>Text: # Avery Lancaster\n\n## Summary\n- **Date of Birth**: March 15, 1985  \n- **Job Title**: Co-Founder & Ch...",
          "Type: employees<br>Text: - **2013 - 2015**: Senior Product Manager at Innovate Insurance Solutions  \n  Before launching Insur...",
          "Type: employees<br>Text: - **2016**: **Meets Expectations**  \n  Growth continued, though challenges arose in operational effi...",
          "Type: employees<br>Text: - **2020**: **Below Expectations**  \n  The COVID-19 pandemic posed unforeseen operational difficulti...",
          "Type: employees<br>Text: - **2023**: **Exceeds Expectations**  \n  Market leadership was regained with innovative approaches t...",
          "Type: employees<br>Text: ## Compensation History\n- **2015**: $150,000 base salary + Significant equity stake  \n- **2016**: $1...",
          "Type: employees<br>Text: ## Other HR Notes\n- **Professional Development**: Avery has actively participated in leadership trai...",
          "Type: employees<br>Text: Avery Lancaster has demonstrated resilience and adaptability throughout her career at Insurellm, pos...",
          "Type: employees<br>Text: # HR Record\n\n# Emily Carter\n\n## Summary\n- **Date of Birth:** August 12, 1990  \n- **Job Title:** Acco...",
          "Type: employees<br>Text: ## Insurellm Career Progression\n- **2021-Present:** Account Executive  \n  - Responsibilities include...",
          "Type: employees<br>Text: - **2017-2019:** Marketing Intern  \n  - Assisted with market research and campaign development for s...",
          "Type: employees<br>Text: ## Compensation History\n| Year | Base Salary | Bonus         | Total Compensation |\n|------|--------...",
          "Type: employees<br>Text: ## Other HR Notes\n- **Professional Development:** Emily is currently enrolled in a leadership traini...",
          "Type: employees<br>Text: # HR Record\n\n# Emily Tran\n\n## Summary\n- **Date of Birth:** March 18, 1991  \n- **Job Title:** Digital...",
          "Type: employees<br>Text: - **January 2017 - May 2018**: Marketing Intern  \n  - Supported the Marketing team by collaborating ...",
          "Type: employees<br>Text: - **2021**:  \n  - Performance Rating: Meets Expectations  \n  - Key Achievements: Contributed to the ...",
          "Type: employees<br>Text: - **Professional Development Goals**:  \n  - Emily Tran aims to become a Marketing Manager within the...",
          "Type: employees<br>Text: # HR Record\n\n# Jordan Blake\n\n## Summary\n- **Date of Birth:** March 15, 1993  \n- **Job Title:** Sales...",
          "Type: employees<br>Text: ## Annual Performance History\n- **2021:** First year at Insurellm; achieved 90% of monthly targets. ...",
          "Type: employees<br>Text: ## Compensation History\n- **2021-06:** Starting Salary: $50,000  \n- **2022-04:** Merit-based increas...",
          "Type: employees<br>Text: ## Other HR Notes\n- Jordan has shown an interest in continuing education, actively participating in ...",
          "Type: employees<br>Text: # HR Record\n\n# Jordan K. Bishop\n\n## Summary\n- **Date of Birth:** March 15, 1990\n- **Job Title:** Fro...",
          "Type: employees<br>Text: ## Insurellm Career Progression\n- **June 2018:** Hired as a Frontend Software Engineer.\n- **August 2...",
          "Type: employees<br>Text: ## Annual Performance History\n- **2019:** Exceeds Expectations - Continuously delivered high-quality...",
          "Type: employees<br>Text: ## Compensation History\n- **June 2018:** Starting Salary - $85,000\n- **June 2019:** Salary Increase ...",
          "Type: employees<br>Text: ## Other HR Notes\n- Jordan K. Bishop has been an integral part of club initiatives, including the In...",
          "Type: employees<br>Text: # HR Record\n\n# Maxine Thompson\n\n## Summary\n- **Date of Birth:** January 15, 1991  \n- **Job Title:** ...",
          "Type: employees<br>Text: ## Insurellm Career Progression\n- **January 2017 - October 2018**: **Junior Data Engineer**  \n  * Ma...",
          "Type: employees<br>Text: - **January 2021 - Present**: **Senior Data Engineer**  \n  * Maxine was promoted to Senior Data Engi...",
          "Type: employees<br>Text: ## Annual Performance History\n- **2017**: *Meets Expectations*  \n  Maxine showed potential in her ro...",
          "Type: employees<br>Text: - **2020**: *Meets Expectations*  \n  Maxine focused on regaining her footing and excelling with tech...",
          "Type: employees<br>Text: - **2023**: *Exceeds Expectations*  \n  Maxine has taken on mentoring responsibilities and is leading...",
          "Type: employees<br>Text: ## Other HR Notes\n- Maxine participated in various company-sponsored trainings related to big data t...",
          "Type: employees<br>Text: # HR Record\n\n# Oliver Spencer\n\n## Summary\n- **Date of Birth**: May 14, 1990  \n- **Job Title**: Backe...",
          "Type: employees<br>Text: ## Insurellm Career Progression\n- **March 2018**: Joined Insurellm as a Backend Developer I, focusin...",
          "Type: employees<br>Text: ## Annual Performance History\n- **2018**: **3/5** - Adaptable team player but still learning to take...",
          "Type: employees<br>Text: ## Compensation History\n- **March 2018**: Initial salary of $80,000.\n- **July 2019**: Salary increas...",
          "Type: employees<br>Text: ## Other HR Notes\n- Oliver enjoys a strong rapport with team members and is known for organizing reg...",
          "Type: employees<br>Text: # Samantha Greene\n\n## Summary\n- **Date of Birth:** October 14, 1990\n- **Job Title:** HR Generalist\n-...",
          "Type: employees<br>Text: ## Summary\n- **Date of Birth:** October 14, 1990\n- **Job Title:** HR Generalist\n- **Location:** Denv...",
          "Type: employees<br>Text: ## Annual Performance History\n- **2020:** Exceeds Expectations  \n  Samantha Greene demonstrated exce...",
          "Type: employees<br>Text: - **2023:** Meets Expectations  \n  After attending workshops focused on conflict resolution, Samanth...",
          "Type: employees<br>Text: - **2023:** Base Salary - $70,000  \n  Recognized for substantial improvement in employee relations m...",
          "Type: employees<br>Text: # HR Record\n\n# Samuel Trenton\n\n## Summary\n- **Date of Birth:** April 12, 1989  \n- **Job Title:** Sen...",
          "Type: employees<br>Text: - **August 2016 - May 2018:** Junior Data Analyst  \n  *Started at Insurellm as a Junior Data Analyst...",
          "Type: employees<br>Text: - **2021:** Rating: 4.0/5  \n  *There was notable improvement in performance. Worked to enhance model...",
          "Type: employees<br>Text: - **2021:** Base Salary: $105,000 + Bonus: $12,000  \n  *Merit-based increase, reflecting consistent ...",
          "Type: employees<br>Text: - **Areas for Improvement:** Collaboration with engineering teams has been noted as an area needing ...",
          "Type: products<br>Text: # Product Summary\n\n# Carllm\n\n## Summary\n\nCarllm is an innovative auto insurance product developed by...",
          "Type: products<br>Text: ## Features\n\n- **AI-Powered Risk Assessment**: Carllm leverages artificial intelligence to analyze d...",
          "Type: products<br>Text: - **Fraud Detection**: The product incorporates advanced analytics to identify potentially fraudulen...",
          "Type: products<br>Text: ## Pricing\n\nCarllm is offered under a subscription-based pricing model tailored to meet the needs of...",
          "Type: products<br>Text: Contact our sales team for a personalized quote and discover how Carllm can transform your auto insu...",
          "Type: products<br>Text: ### Q4 2025: AI and Machine Learning Upgrades\n- Implement next-gen machine learning models for predi...",
          "Type: products<br>Text: # Product Summary\n\n# Homellm\n\n## Summary\nHomellm is an innovative home insurance product developed b...",
          "Type: products<br>Text: ## Features\n### 1. AI-Powered Risk Assessment\nHomellm utilizes sophisticated AI algorithms to analyz...",
          "Type: products<br>Text: ### 3. Instant Claim Processing\nThe AI-driven claims management system in Homellm automates the enti...",
          "Type: products<br>Text: ### 5. Multi-Channel Integration\nHomellm seamlessly integrates into existing insurance platforms, pr...",
          "Type: products<br>Text: - **Basic Tier:** Starting at $5,000/month for small insurers with basic integration features.\n- **S...",
          "Type: products<br>Text: ## Roadmap\nThe development roadmap for Homellm includes the following key milestones:\n\n- **Q1 2024:*...",
          "Type: products<br>Text: With Homellm, Insurellm is committed to transforming the landscape of home insurance, ensuring both ...",
          "Type: products<br>Text: # Product Summary\n\n# Markellm\n\n## Summary\n\nMarkellm is an innovative two-sided marketplace designed ...",
          "Type: products<br>Text: ## Features\n\n- **AI-Powered Matching**: Markellm utilizes sophisticated AI algorithms to match consu...",
          "Type: products<br>Text: - **Customized Recommendations**: Based on user profiles and preferences, Markellm provides personal...",
          "Type: products<br>Text: ## Pricing\n\nAt Markellm, we believe in transparency and flexibility. Our pricing structure is design...",
          "Type: products<br>Text: ### For Insurance Companies:\n- **Basic Listing Fee**: $199/month for a featured listing on the platf...",
          "Type: products<br>Text: ### Q3 2025\n- Initiate a comprehensive marketing campaign targeting both consumers and insurers to i...",
          "Type: products<br>Text: # Product Summary\n\n# Rellm: AI-Powered Enterprise Reinsurance Solution\n\n## Summary\n\nRellm is an inno...",
          "Type: products<br>Text: ## Features\n\n### AI-Driven Analytics\nRellm utilizes cutting-edge AI algorithms to provide predictive...",
          "Type: products<br>Text: ### Risk Assessment Module\nThe comprehensive risk assessment module within Rellm allows insurers to ...",
          "Type: products<br>Text: ### Client and Broker Portals\nRellm offers dedicated portals for both clients and brokers, facilitat...",
          "Type: products<br>Text: Join the growing number of organizations leveraging Rellm to enhance their reinsurance processes whi...",
          "Type: products<br>Text: - **Q3 2026**: \n  - Release of a community platform for Rellm users to exchange insights, tips, and ...",
          "Type: company<br>Text: # About Insurellm\n\nInsurellm was founded by Avery Lancaster in 2015 as an insurance tech startup des...",
          "Type: company<br>Text: # Careers at Insurellm\n\nInsurellm is hiring! We are looking for talented software engineers, data sc...",
          "Type: company<br>Text: # Overview of Insurellm\n\nInsurellm is an innovative insurance tech firm with 200 employees across th...",
          "Type: contracts<br>Text: # Contract with Apex Reinsurance for Rellm: AI-Powered Enterprise Reinsurance Solution\n\n## Terms\n\n1....",
          "Type: contracts<br>Text: 4. **Contract Duration**: This Agreement shall commence on [Start Date] and shall remain in effect f...",
          "Type: contracts<br>Text: ## Features\n\n1. **AI-Driven Analytics**: The Rellm platform will utilize AI algorithms to provide pr...",
          "Type: contracts<br>Text: 5. **Dedicated Client Portal**: A portal for the Client will facilitate real-time communication and ...",
          "Type: contracts<br>Text: 4. **Escalation Protocol**: Issues that cannot be resolved at the first level of support will be esc...",
          "Type: contracts<br>Text: # Contract with Belvedere Insurance for Markellm\n\n## Terms\nThis Contract (\"Agreement\") is made and e...",
          "Type: contracts<br>Text: 1. **Service Commencement**: The services described herein will commence on [Start Date].\n2. **Contr...",
          "Type: contracts<br>Text: ## Renewal\n1. **Renewal Terms**: This Agreement may be renewed for additional one-year terms upon mu...",
          "Type: contracts<br>Text: ## Features\n1. **AI-Powered Matching**: Belvedere Insurance will benefit from Markellm's AI-powered ...",
          "Type: contracts<br>Text: ## Support\n1. **Technical Support**: Technical support will be available from 9 AM to 7 PM EST, Mond...",
          "Type: contracts<br>Text: **Insurellm, Inc.**  \nSignature: ______________________  \nName: [Authorized Signatory]  \nTitle: [Tit...",
          "Type: contracts<br>Text: # Contract with BrightWay Solutions for Markellm\n\n**Contract Date:** October 5, 2023  \n**Contract ID...",
          "Type: contracts<br>Text: 3. **Service Level Agreement (SLA):**  \n   Insurellm commits to a 99.9% uptime for the platform with...",
          "Type: contracts<br>Text: ### Features\n1. **Access to AI-Powered Matching:**  \n   BrightWay Solutions will benefit from the AI...",
          "Type: contracts<br>Text: ### Support\n1. **Dedicated Customer Support:**  \n   BrightWay Solutions will have access to a dedica...",
          "Type: contracts<br>Text: ### Signatures\nBy signing below, both parties agree to the terms and conditions outlined in this Con...",
          "Type: contracts<br>Text: # Contract with EverGuard Insurance for Rellm: AI-Powered Enterprise Reinsurance Solution\n\n**Contrac...",
          "Type: contracts<br>Text: 3. **Payment Terms**: EverGuard Insurance agrees to pay Insurellm a monthly fee of $10,000 for the d...",
          "Type: contracts<br>Text: 2. **Price Adjustment**: In the event of a renewal, Insurellm reserves the right to adjust the month...",
          "Type: contracts<br>Text: 4. **Client Portal Access**: EverGuard Insurance will have access to both client and broker portals,...",
          "Type: contracts<br>Text: 3. **Updates and Upgrades**: EverGuard Insurance will receive all platform updates and upgrades at n...",
          "Type: contracts<br>Text: --- \n\nThis contract seeks to foster a strong partnership between Insurellm and EverGuard Insurance, ...",
          "Type: contracts<br>Text: # Contract with GreenField Holdings for Markellm\n\n**Effective Date:** November 15, 2023  \n**Contract...",
          "Type: contracts<br>Text: ## Renewal\n1. **Automatic Renewal**: This contract will automatically renew for sequential one-year ...",
          "Type: contracts<br>Text: ## Features\n1. **AI-Powered Matching**: Access to advanced algorithms that connect GreenField Holdin...",
          "Type: contracts<br>Text: ## Support\n1. **Customer Support Access**: The Client will have access to dedicated support through ...",
          "Type: contracts<br>Text: ## Pricing\n- **Basic Listing Fee**: GreenField Holdings agrees to pay a monthly fee of $199 for a fe...",
          "Type: contracts<br>Text: # Contract with Greenstone Insurance for Homellm\n\n---\n\n## Terms\n\n1. **Parties**: This Contract (\"Agr...",
          "Type: contracts<br>Text: 4. **Payment Terms**: \n   - The Customer shall pay an amount of $10,000 per month for the Standard T...",
          "Type: contracts<br>Text: ---\n\n## Features\n\n- **AI-Powered Risk Assessment**: Customer will have access to enhanced risk evalu...",
          "Type: contracts<br>Text: - **Multi-Channel Integration**: Homellm will integrate with the Customer's existing platforms to cr...",
          "Type: contracts<br>Text: --- \n\n**AGREEMENT SIGNATURES**\n\nBy signing below, the parties acknowledge their acceptance of the te...",
          "Type: contracts<br>Text: # Contract with GreenValley Insurance for Homellm\n\n**Contract Date:** October 6, 2023  \n**Contract N...",
          "Type: contracts<br>Text: 3. **Payment:** GreenValley Insurance shall pay a monthly fee of $10,000, due by the 5th of every mo...",
          "Type: contracts<br>Text: ---\n\n## Features\n\nGreenValley Insurance will receive the following features with Homellm:\n\n1. **AI-P...",
          "Type: contracts<br>Text: 6. **Customer Portal:** A user-friendly portal for their customers for policy and claims management....",
          "Type: contracts<br>Text: ---\n\n**Signatures:**\n\n_________________________________  \n**[Name]**  \n**Title**: CEO  \n**Insurellm,...",
          "Type: contracts<br>Text: # Contract with Pinnacle Insurance Co. for Homellm\n\n## Terms\nThis contract (\"Contract\") is entered i...",
          "Type: contracts<br>Text: 1. **License Grant**: Insurellm hereby grants the Client a non-exclusive, non-transferable license t...",
          "Type: contracts<br>Text: ## Renewal\n1. **Renewal Terms**: At the end of the initial term, this Contract shall automatically r...",
          "Type: contracts<br>Text: ## Features\n1. **AI-Powered Risk Assessment**: Utilized for tailored underwriting decisions specific...",
          "Type: contracts<br>Text: 5. **Multi-Channel Integration**: Seamless access to customer data through existing systems in Pinna...",
          "Type: contracts<br>Text: ## Support\n1. **Technical Support**: Insurellm shall provide 24/7 technical support via an email and...",
          "Type: contracts<br>Text: ____  \n**Insurellm Authorized Signature**  \nName: Sarah Johnson  \nTitle: VP of Sales  \nDate: _______...",
          "Type: contracts<br>Text: # Contract with Roadway Insurance Inc. for Carllm\n\n---\n\n## Terms\n\n1. **Agreement Effective Date**: T...",
          "Type: contracts<br>Text: ---\n\n## Renewal\n\n1. **Automatic Renewal**: This agreement will automatically renew for an additional...",
          "Type: contracts<br>Text: ---\n\n## Features\n\n1. **Access to Core Features**: Roadway Insurance Inc. will have access to all Pro...",
          "Type: contracts<br>Text: ---\n\n## Support\n\n1. **Technical Support**: Roadway Insurance Inc. will receive priority technical su...",
          "Type: contracts<br>Text: # Contract with Stellar Insurance Co. for Rellm\n\n## Terms\nThis contract is made between **Insurellm*...",
          "Type: contracts<br>Text: ### Payment Terms\nStellar Insurance Co. agrees to pay Insurellm a monthly subscription fee of **$10,...",
          "Type: contracts<br>Text: ## Features\nStellar Insurance Co. will receive access to the following features of the Rellm product...",
          "Type: contracts<br>Text: ## Support\nInsurellm provides Stellar Insurance Co. with the following support services:\n\n- **24/7 T...",
          "Type: contracts<br>Text: **For Insurellm**  \n______________________________  \n[Signature]  \n[Name, Title]  \n[Date]  \n\n**For S...",
          "Type: contracts<br>Text: # Contract with TechDrive Insurance for Carllm\n\n**Contract Date:** October 1, 2024  \n**Contract Dura...",
          "Type: contracts<br>Text: **Contract Date:** October 1, 2024  \n**Contract Duration:** 12 months\n\n---\n\n## Terms\n\n1. **Parties I...",
          "Type: contracts<br>Text: ## Renewal\n\n1. **Automatic Renewal**: This contract shall automatically renew for additional one-yea...",
          "Type: contracts<br>Text: 2. **System Requirements**: TechDrive Insurance must ensure that their existing systems meet the tec...",
          "Type: contracts<br>Text: 3. **System Updates**: The Provider will push regular updates to improve system performance and add ...",
          "Type: contracts<br>Text: # Contract with Velocity Auto Solutions for Carllm\n\n**Contract Date:** October 1, 2023  \n**Contract ...",
          "Type: contracts<br>Text: ---\n\n## Terms\n\n1. **Duration**: This contract is effective for a period of 12 months from the contra...",
          "Type: contracts<br>Text: ## Renewal\n\n1. **Automatic Renewal**: This contract will automatically renew for successive 12-month...",
          "Type: contracts<br>Text: 2. **Feature Enhancements**: Velocity Auto Solutions will receive updates to the Carllm product as o...",
          "Type: contracts<br>Text: ---\n\n**Accepted and Agreed:**  \n**For Velocity Auto Solutions**  \nSignature: _____________________  ...",
          "Type: employees<br>Text: # HR Record\n\n# Alex Chen\n\n## Summary\n- **Date of Birth:** March 15, 1990  \n- **Job Title:** Backend ...",
          "Type: employees<br>Text: ## Annual Performance History\n- **2020:**  \n  - Completed onboarding successfully.  \n  - Met expecta...",
          "Type: employees<br>Text: ## Compensation History\n- **2020:** Base Salary: $80,000  \n- **2021:** Base Salary Increase to $90,0...",
          "Type: employees<br>Text: ## Other HR Notes\n- Participates regularly in Insurellm's Diversity & Inclusion initiatives, champio...",
          "Type: employees<br>Text: # HR Record\n\n# Alex Harper\n\n## Summary\n- **Date of Birth**: March 15, 1993  \n- **Job Title**: Sales ...",
          "Type: employees<br>Text: ## Annual Performance History  \n- **2021**:  \n  - **Performance Rating**: 4.5/5  \n  - **Key Achievem...",
          "Type: employees<br>Text: ## Compensation History  \n- **2021**:  \n  - **Base Salary**: $55,000  \n  - **Bonus**: $5,500 (10% of...",
          "Type: employees<br>Text: - **Awards**:  \n  - Insurellm \"SDR of the Year\" Award (2022)  \n  - Monthly MVP Recognition (3 times ...",
          "Type: employees<br>Text: # HR Record\n\n# Alex Thomson\n\n## Summary\n- **Date of Birth:** March 15, 1995  \n- **Job Title:** Sales...",
          "Type: employees<br>Text: ## Insurellm Career Progression\n- **November 2022** - Joined Insurellm as a Sales Development Repres...",
          "Type: employees<br>Text: ## Annual Performance History  \n- **2022** - Rated as \"Exceeds Expectations.\" Alex Thomson achieved ...",
          "Type: employees<br>Text: ## Compensation History\n- **2022**: Base Salary - $55,000 | Bonus - $5,000  \n- **2023**: Base Salary...",
          "Type: employees<br>Text: ## Other HR Notes\n- Alex Thomson is an active member of the Diversity and Inclusion committee at Ins...",
          "Type: employees<br>Text: # Avery Lancaster\n\n## Summary\n- **Date of Birth**: March 15, 1985  \n- **Job Title**: Co-Founder & Ch...",
          "Type: employees<br>Text: - **2013 - 2015**: Senior Product Manager at Innovate Insurance Solutions  \n  Before launching Insur...",
          "Type: employees<br>Text: - **2016**: **Meets Expectations**  \n  Growth continued, though challenges arose in operational effi...",
          "Type: employees<br>Text: - **2020**: **Below Expectations**  \n  The COVID-19 pandemic posed unforeseen operational difficulti...",
          "Type: employees<br>Text: - **2023**: **Exceeds Expectations**  \n  Market leadership was regained with innovative approaches t...",
          "Type: employees<br>Text: ## Compensation History\n- **2015**: $150,000 base salary + Significant equity stake  \n- **2016**: $1...",
          "Type: employees<br>Text: ## Other HR Notes\n- **Professional Development**: Avery has actively participated in leadership trai...",
          "Type: employees<br>Text: Avery Lancaster has demonstrated resilience and adaptability throughout her career at Insurellm, pos...",
          "Type: employees<br>Text: # HR Record\n\n# Emily Carter\n\n## Summary\n- **Date of Birth:** August 12, 1990  \n- **Job Title:** Acco...",
          "Type: employees<br>Text: ## Insurellm Career Progression\n- **2021-Present:** Account Executive  \n  - Responsibilities include...",
          "Type: employees<br>Text: - **2017-2019:** Marketing Intern  \n  - Assisted with market research and campaign development for s...",
          "Type: employees<br>Text: ## Compensation History\n| Year | Base Salary | Bonus         | Total Compensation |\n|------|--------...",
          "Type: employees<br>Text: ## Other HR Notes\n- **Professional Development:** Emily is currently enrolled in a leadership traini...",
          "Type: employees<br>Text: # HR Record\n\n# Emily Tran\n\n## Summary\n- **Date of Birth:** March 18, 1991  \n- **Job Title:** Digital...",
          "Type: employees<br>Text: - **January 2017 - May 2018**: Marketing Intern  \n  - Supported the Marketing team by collaborating ...",
          "Type: employees<br>Text: - **2021**:  \n  - Performance Rating: Meets Expectations  \n  - Key Achievements: Contributed to the ...",
          "Type: employees<br>Text: - **Professional Development Goals**:  \n  - Emily Tran aims to become a Marketing Manager within the...",
          "Type: employees<br>Text: # HR Record\n\n# Jordan Blake\n\n## Summary\n- **Date of Birth:** March 15, 1993  \n- **Job Title:** Sales...",
          "Type: employees<br>Text: ## Annual Performance History\n- **2021:** First year at Insurellm; achieved 90% of monthly targets. ...",
          "Type: employees<br>Text: ## Compensation History\n- **2021-06:** Starting Salary: $50,000  \n- **2022-04:** Merit-based increas...",
          "Type: employees<br>Text: ## Other HR Notes\n- Jordan has shown an interest in continuing education, actively participating in ...",
          "Type: employees<br>Text: # HR Record\n\n# Jordan K. Bishop\n\n## Summary\n- **Date of Birth:** March 15, 1990\n- **Job Title:** Fro...",
          "Type: employees<br>Text: ## Insurellm Career Progression\n- **June 2018:** Hired as a Frontend Software Engineer.\n- **August 2...",
          "Type: employees<br>Text: ## Annual Performance History\n- **2019:** Exceeds Expectations - Continuously delivered high-quality...",
          "Type: employees<br>Text: ## Compensation History\n- **June 2018:** Starting Salary - $85,000\n- **June 2019:** Salary Increase ...",
          "Type: employees<br>Text: ## Other HR Notes\n- Jordan K. Bishop has been an integral part of club initiatives, including the In...",
          "Type: employees<br>Text: # HR Record\n\n# Maxine Thompson\n\n## Summary\n- **Date of Birth:** January 15, 1991  \n- **Job Title:** ...",
          "Type: employees<br>Text: ## Insurellm Career Progression\n- **January 2017 - October 2018**: **Junior Data Engineer**  \n  * Ma...",
          "Type: employees<br>Text: - **January 2021 - Present**: **Senior Data Engineer**  \n  * Maxine was promoted to Senior Data Engi...",
          "Type: employees<br>Text: ## Annual Performance History\n- **2017**: *Meets Expectations*  \n  Maxine showed potential in her ro...",
          "Type: employees<br>Text: - **2020**: *Meets Expectations*  \n  Maxine focused on regaining her footing and excelling with tech...",
          "Type: employees<br>Text: - **2023**: *Exceeds Expectations*  \n  Maxine has taken on mentoring responsibilities and is leading...",
          "Type: employees<br>Text: ## Other HR Notes\n- Maxine participated in various company-sponsored trainings related to big data t...",
          "Type: employees<br>Text: # HR Record\n\n# Oliver Spencer\n\n## Summary\n- **Date of Birth**: May 14, 1990  \n- **Job Title**: Backe...",
          "Type: employees<br>Text: ## Insurellm Career Progression\n- **March 2018**: Joined Insurellm as a Backend Developer I, focusin...",
          "Type: employees<br>Text: ## Annual Performance History\n- **2018**: **3/5** - Adaptable team player but still learning to take...",
          "Type: employees<br>Text: ## Compensation History\n- **March 2018**: Initial salary of $80,000.\n- **July 2019**: Salary increas...",
          "Type: employees<br>Text: ## Other HR Notes\n- Oliver enjoys a strong rapport with team members and is known for organizing reg...",
          "Type: employees<br>Text: # Samantha Greene\n\n## Summary\n- **Date of Birth:** October 14, 1990\n- **Job Title:** HR Generalist\n-...",
          "Type: employees<br>Text: ## Summary\n- **Date of Birth:** October 14, 1990\n- **Job Title:** HR Generalist\n- **Location:** Denv...",
          "Type: employees<br>Text: ## Annual Performance History\n- **2020:** Exceeds Expectations  \n  Samantha Greene demonstrated exce...",
          "Type: employees<br>Text: - **2023:** Meets Expectations  \n  After attending workshops focused on conflict resolution, Samanth...",
          "Type: employees<br>Text: - **2023:** Base Salary - $70,000  \n  Recognized for substantial improvement in employee relations m...",
          "Type: employees<br>Text: # HR Record\n\n# Samuel Trenton\n\n## Summary\n- **Date of Birth:** April 12, 1989  \n- **Job Title:** Sen...",
          "Type: employees<br>Text: - **August 2016 - May 2018:** Junior Data Analyst  \n  *Started at Insurellm as a Junior Data Analyst...",
          "Type: employees<br>Text: - **2021:** Rating: 4.0/5  \n  *There was notable improvement in performance. Worked to enhance model...",
          "Type: employees<br>Text: - **2021:** Base Salary: $105,000 + Bonus: $12,000  \n  *Merit-based increase, reflecting consistent ...",
          "Type: employees<br>Text: - **Areas for Improvement:** Collaboration with engineering teams has been noted as an area needing ...",
          "Type: products<br>Text: # Product Summary\n\n# Carllm\n\n## Summary\n\nCarllm is an innovative auto insurance product developed by...",
          "Type: products<br>Text: ## Features\n\n- **AI-Powered Risk Assessment**: Carllm leverages artificial intelligence to analyze d...",
          "Type: products<br>Text: - **Fraud Detection**: The product incorporates advanced analytics to identify potentially fraudulen...",
          "Type: products<br>Text: ## Pricing\n\nCarllm is offered under a subscription-based pricing model tailored to meet the needs of...",
          "Type: products<br>Text: Contact our sales team for a personalized quote and discover how Carllm can transform your auto insu...",
          "Type: products<br>Text: ### Q4 2025: AI and Machine Learning Upgrades\n- Implement next-gen machine learning models for predi...",
          "Type: products<br>Text: # Product Summary\n\n# Homellm\n\n## Summary\nHomellm is an innovative home insurance product developed b...",
          "Type: products<br>Text: ## Features\n### 1. AI-Powered Risk Assessment\nHomellm utilizes sophisticated AI algorithms to analyz...",
          "Type: products<br>Text: ### 3. Instant Claim Processing\nThe AI-driven claims management system in Homellm automates the enti...",
          "Type: products<br>Text: ### 5. Multi-Channel Integration\nHomellm seamlessly integrates into existing insurance platforms, pr...",
          "Type: products<br>Text: - **Basic Tier:** Starting at $5,000/month for small insurers with basic integration features.\n- **S...",
          "Type: products<br>Text: ## Roadmap\nThe development roadmap for Homellm includes the following key milestones:\n\n- **Q1 2024:*...",
          "Type: products<br>Text: With Homellm, Insurellm is committed to transforming the landscape of home insurance, ensuring both ...",
          "Type: products<br>Text: # Product Summary\n\n# Markellm\n\n## Summary\n\nMarkellm is an innovative two-sided marketplace designed ...",
          "Type: products<br>Text: ## Features\n\n- **AI-Powered Matching**: Markellm utilizes sophisticated AI algorithms to match consu...",
          "Type: products<br>Text: - **Customized Recommendations**: Based on user profiles and preferences, Markellm provides personal...",
          "Type: products<br>Text: ## Pricing\n\nAt Markellm, we believe in transparency and flexibility. Our pricing structure is design...",
          "Type: products<br>Text: ### For Insurance Companies:\n- **Basic Listing Fee**: $199/month for a featured listing on the platf...",
          "Type: products<br>Text: ### Q3 2025\n- Initiate a comprehensive marketing campaign targeting both consumers and insurers to i...",
          "Type: products<br>Text: # Product Summary\n\n# Rellm: AI-Powered Enterprise Reinsurance Solution\n\n## Summary\n\nRellm is an inno...",
          "Type: products<br>Text: ## Features\n\n### AI-Driven Analytics\nRellm utilizes cutting-edge AI algorithms to provide predictive...",
          "Type: products<br>Text: ### Risk Assessment Module\nThe comprehensive risk assessment module within Rellm allows insurers to ...",
          "Type: products<br>Text: ### Client and Broker Portals\nRellm offers dedicated portals for both clients and brokers, facilitat...",
          "Type: products<br>Text: Join the growing number of organizations leveraging Rellm to enhance their reinsurance processes whi...",
          "Type: products<br>Text: - **Q3 2026**: \n  - Release of a community platform for Rellm users to exchange insights, tips, and ..."
         ],
         "type": "scatter3d",
         "x": {
          "bdata": "CZGOv02bh8ARVOQ+viKLQKeoRUF2iDe/9uhOQBzJF0H3FdVAFg9aQZW5dEFLvxRAwfP4QMNgl0AN3h9BpFA+QRDH0LyBnh5BJTb3QCCflUAr099AXE0hQFeyhEDUrKdAztuWQATl70BuGG5B20u9PGnFhz3HxrdAa8EMQacJPkEbdj5AFuJyQLjk1ECUevBAiIESQZfKVUCHIbdAcbLHQBzFCUGnThdBqSJXQXL8LEAwLuU/T4i1QDI5BUHS0hlBMwVfQVcFXj0E43dAD4EAQaDtEEGkAs8/zvDMQLHdIkEVCfZAu831QAFTJUHAx4BA0wa+QJVryEBqPs5AYWtCQXJCgEBy9w9BDHDYwEoC+MB16mDBRDaNwB5qvMAJObbAsw01wcoo48A65xXBqfeRwFaqhMB8zHPB16OiwPTj/r9VRjrAJVcewC/6GMCKjRnA9O9cwbttNcD+sBnAQ6wiwURb58DMohbAa3FcwUIX1cDw3KPA+RCmwDvqJ8EVlevAZKrGwLDXiMAzfGTBh2RjwDUa8MDc+rvAV4+kwMHQg8E1GADABvk4wZzWAMGC7CPBL+8kweJrC8FJJUjBKNEUwbBHHcGshZDAqgDuwAI+h8FyJ5rAvIYawVDVDcGb4RzB/mQywdkCLMFFAuvA2f7HwL/DNcFwQ1PBD0POwIRlFj8+sGc9T3JGP3JgREDQDfU/NAVLv298KUBKrQJAMGOVPvGdoUDnJJlAs4MJQLpAdkBMLP0/SWDaP796dUBqGIk/4M9kQK/Ctz77VqC+3wudvwmLhz/MSWk/ZCnZv15d1j4JkY6/TZuHwBFU5D6+IotAp6hFQXaIN7/26E5AHMkXQfcV1UAWD1pBlbl0QUu/FEDB8/hAw2CXQA3eH0GkUD5BEMfQvIGeHkElNvdAIJ+VQCvT30BcTSFAV7KEQNSsp0DO25ZABOXvQG4YbkHbS708acWHPcfGt0BrwQxBpwk+QRt2PkAW4nJAuOTUQJR68ECIgRJBl8pVQIcht0BxssdAHMUJQadOF0GpIldBcvwsQDAu5T9PiLVAMjkFQdLSGUEzBV9BVwVePQTjd0APgQBBoO0QQaQCzz/O8MxAsd0iQRUJ9kC7zfVAAVMlQcDHgEDTBr5AlWvIQGo+zkBha0JBckKAQHL3D0EMcNjASgL4wHXqYMFENo3AHmq8wAk5tsCzDTXByijjwDrnFcGp95HAVqqEwHzMc8HXo6LA9OP+v1VGOsAlVx7AL/oYwIqNGcD071zBu201wP6wGcBDrCLBRFvnwMyiFsBrcVzBQhfVwPDco8D5EKbAO+onwRWV68BkqsbAsNeIwDN8ZMGHZGPANRrwwNz6u8BXj6TAwdCDwTUYAMAG+TjBnNYAwYLsI8Ev7yTB4msLwUklSMEo0RTBsEcdwayFkMCqAO7AAj6HwXInmsC8hhrBUNUNwZvhHMH+ZDLB2QIswUUC68DZ/sfAv8M1wXBDU8EPQ87AhGUWPz6wZz1PckY/cmBEQNAN9T80BUu/b3wpQEqtAkAwY5U+8Z2hQOckmUCzgwlAukB2QEws/T9JYNo/v3p1QGoYiT/gz2RAr8K3PvtWoL7fC52/CYuHP8xJaT9kKdm/Xl3WPg==",
          "dtype": "f4"
         },
         "y": {
          "bdata": "kJFBQLZrs0DpH21AMof7QP7IrT8/p/dAyeP5QPtv2T80ObbAQfBRwDm2wz+BFF7AwETrP58EPsDRQJzAMDqdQChSkcA8BOzAK8bEv0BrEUGhcQVBNP78QMGev0BnjcxAKBgeQVPhK8D3c45AZR1jwBp5LcD0UybBF3ziPyy0Rj2jkwvANj58QDbVj76SIYdAS/+3QGHVj7+Z/S2/3rfJPzHtw8DeYLy/iYMtQJAxjMB0elvAfpebP1+PYMCQVPQ+U4s4QCAzKr+PwMM8LfLzQAhV5ECGlARBUJa+QCHI6r9n4XVA5kxlQPc5NUC+QUFAfTPwP584CEAR82u/JkGYQHMFyL04t6bAoeawPzjY7cAUpXy/DhxUQBkUncBKtPjAqpA+wB/5AUCwUqTAEfYkwK31KsGHXNk+Pj8hvyr87T9qkoK/dGOZwA/O48CXbBO/9+PQv0Gu5MAWxEhAE4vowG16r8AKLQvBWDp8wMHkyD9tPjy/txg4wJcYi8ANfgJAiDaKwAr7ecB5Am7A5mM4wAssB8E5KH+/EsvSwAt5wr9ei2K/AvbgwD20vkBIPKhA1qSUP7mZi0BnJX5AtwJkQAkYGsFDZ54/EmKYwABPPsAoOYNArvpkwJWpsL8zOwHArI+1Pq/XsT+PHMO/GYzkQImawr93/K4/FN8VQeMZ+j9r+jM/NHYRP6fNocCdvj5AvV3gv+UpQj8DqOQ/6OkrQAulTMC/7O/AhEdAv/1kBkC1gwHBPQbEwHbfu8C79CPBX3oMwSvyRMD5KN9AU4T0QOzXJ0FIoOdAm+32QPSeJUGQkUFAtmuzQOkfbUAyh/tA/sitPz+n90DJ4/lA+2/ZPzQ5tsBB8FHAObbDP4EUXsDAROs/nwQ+wNFAnMAwOp1AKFKRwDwE7MArxsS/QGsRQaFxBUE0/vxAwZ6/QGeNzEAoGB5BU+ErwPdzjkBlHWPAGnktwPRTJsEXfOI/LLRGPaOTC8A2PnxANtWPvpIhh0BL/7dAYdWPv5n9Lb/et8k/Me3DwN5gvL+Jgy1AkDGMwHR6W8B+l5s/X49gwJBU9D5TizhAIDMqv4/Awzwt8vNACFXkQIaUBEFQlr5AIcjqv2fhdUDmTGVA9zk1QL5BQUB9M/A/nzgIQBHza78mQZhAcwXIvTi3psCh5rA/ONjtwBSlfL8OHFRAGRSdwEq0+MCqkD7AH/kBQLBSpMAR9iTArfUqwYdc2T4+PyG/KvztP2qSgr90Y5nAD87jwJdsE7/349C/Qa7kwBbESEATi+jAbXqvwAotC8FYOnzAweTIP20+PL+3GDjAlxiLwA1+AkCINorACvt5wHkCbsDmYzjACywHwTkof78Sy9LAC3nCv16LYr8C9uDAPbS+QEg8qEDWpJQ/uZmLQGclfkC3AmRACRgawUNnnj8SYpjAAE8+wCg5g0Cu+mTAlamwvzM7AcCsj7U+r9exP48cw78ZjORAiZrCv3f8rj8U3xVB4xn6P2v6Mz80dhE/p82hwJ2+PkC9XeC/5SlCPwOo5D/o6StAC6VMwL/s78CER0C//WQGQLWDAcE9BsTAdt+7wLv0I8FfegzBK/JEwPko30BThPRA7NcnQUig50Cb7fZA9J4lQQ==",
          "dtype": "f4"
         },
         "z": {
          "bdata": "V1wnwCB0br7+Uz4/lJMyQOixAUCy/FrAjcjDQArQ1sDvbba/vaa2vZ2Bgz8clJXARMVLPUVQ6MADP0k9uXGjv11DNcCRme082JiVwIHKHj0oYgfA3HI5wPW0V8Azvt7AGKB7wM6Zd0CbhKI/xOXqPZYYEMGGy++/vcI8wFQjkr/45vY/lLt3P88jBsFWoFTAYlpswIdx977wrPm/SxnBwEm5rECAwZ4/tPUTPi1g+kAROiRBqrg8P7xEBcHiHeRAzzFaQFO64r4lGJZAEhxGQCGhSj+ivLw+I52NP7Pn2sAbxvVAFrKoQPU5h0DW4M1ANnqPQBquHkFQuAhBXxocQC7P9kAqDLPAr+o8wNY6RUD/r5g+OJGYP+nwY8DLuZG/gy7fvl347MDbqcnAiERXwNwxkT0NoaO/ocK/wKe8eT9dD4U/RVYgQAxqjr+3JFtApwU6wG1DsMDhWptA/eoSwP/jjLxXx1dA5NgpwKyohUB6e7tAMtNfQIe++z/3Rt8/GQ7XwHuiD73w7HQ/Z24FwT91xsA7iJC//E+lQB5J6z+PfqLAqbeswH4zvz/QCApA32ufQFmUlkBvMS0/Gb0av1UPmMBugZa/AAi3QKBxQb+qA2/AZzdbwObQksBC9LxAxcHRv0K6kcCBr9g/oDmTQMeiAkBS8yBAl7mAv7/zC0Fg98hAY2RKQI/2h0DUIY1AHgXTQCdNscDLhJO/Pj/KwLvhzT4khTZAipFGwOg5acBTAGnAf11Rv3t7V8CoSSu/6iThvtMOiUARr+o/z41Gv2WuqL+cMQhBJhGNQF9nKUBXXCfAIHRuvv5TPj+UkzJA6LEBQLL8WsCNyMNACtDWwO9ttr+9pra9nYGDPxyUlcBExUs9RVDowAM/ST25caO/XUM1wJGZ7TzYmJXAgcoePShiB8DccjnA9bRXwDO+3sAYoHvAzpl3QJuEoj/E5eo9lhgQwYbL77+9wjzAVCOSv/jm9j+Uu3c/zyMGwVagVMBiWmzAh3H3vvCs+b9LGcHASbmsQIDBnj+09RM+LWD6QBE6JEGquDw/vEQFweId5EDPMVpAU7riviUYlkASHEZAIaFKP6K8vD4jnY0/s+fawBvG9UAWsqhA9TmHQNbgzUA2eo9AGq4eQVC4CEFfGhxALs/2QCoMs8Cv6jzA1jpFQP+vmD44kZg/6fBjwMu5kb+DLt++XfjswNupycCIRFfA3DGRPQ2ho7+hwr/Ap7x5P10PhT9FViBADGqOv7ckW0CnBTrAbUOwwOFam0D96hLA/+OMvFfHV0Dk2CnArKiFQHp7u0Ay019Ah777P/dG3z8ZDtfAe6IPvfDsdD9nbgXBP3XGwDuIkL/8T6VAHknrP49+osCpt6zAfjO/P9AICkDfa59AWZSWQG8xLT8ZvRq/VQ+YwG6Blr8ACLdAoHFBv6oDb8BnN1vA5tCSwEL0vEDFwdG/QrqRwIGv2D+gOZNAx6ICQFLzIECXuYC/v/MLQWD3yEBjZEpAj/aHQNQhjUAeBdNAJ02xwMuEk78+P8rAu+HNPiSFNkCKkUbA6DlpwFMAacB/XVG/e3tXwKhJK7/qJOG+0w6JQBGv6j/PjUa/Za6ov5wxCEEmEY1AX2cpQA==",
          "dtype": "f4"
         }
        }
       ],
       "layout": {
        "height": 700,
        "template": {
         "data": {
          "bar": [
           {
            "error_x": {
             "color": "#2a3f5f"
            },
            "error_y": {
             "color": "#2a3f5f"
            },
            "marker": {
             "line": {
              "color": "#E5ECF6",
              "width": 0.5
             },
             "pattern": {
              "fillmode": "overlay",
              "size": 10,
              "solidity": 0.2
             }
            },
            "type": "bar"
           }
          ],
          "barpolar": [
           {
            "marker": {
             "line": {
              "color": "#E5ECF6",
              "width": 0.5
             },
             "pattern": {
              "fillmode": "overlay",
              "size": 10,
              "solidity": 0.2
             }
            },
            "type": "barpolar"
           }
          ],
          "carpet": [
           {
            "aaxis": {
             "endlinecolor": "#2a3f5f",
             "gridcolor": "white",
             "linecolor": "white",
             "minorgridcolor": "white",
             "startlinecolor": "#2a3f5f"
            },
            "baxis": {
             "endlinecolor": "#2a3f5f",
             "gridcolor": "white",
             "linecolor": "white",
             "minorgridcolor": "white",
             "startlinecolor": "#2a3f5f"
            },
            "type": "carpet"
           }
          ],
          "choropleth": [
           {
            "colorbar": {
             "outlinewidth": 0,
             "ticks": ""
            },
            "type": "choropleth"
           }
          ],
          "contour": [
           {
            "colorbar": {
             "outlinewidth": 0,
             "ticks": ""
            },
            "colorscale": [
             [
              0,
              "#0d0887"
             ],
             [
              0.1111111111111111,
              "#46039f"
             ],
             [
              0.2222222222222222,
              "#7201a8"
             ],
             [
              0.3333333333333333,
              "#9c179e"
             ],
             [
              0.4444444444444444,
              "#bd3786"
             ],
             [
              0.5555555555555556,
              "#d8576b"
             ],
             [
              0.6666666666666666,
              "#ed7953"
             ],
             [
              0.7777777777777778,
              "#fb9f3a"
             ],
             [
              0.8888888888888888,
              "#fdca26"
             ],
             [
              1,
              "#f0f921"
             ]
            ],
            "type": "contour"
           }
          ],
          "contourcarpet": [
           {
            "colorbar": {
             "outlinewidth": 0,
             "ticks": ""
            },
            "type": "contourcarpet"
           }
          ],
          "heatmap": [
           {
            "colorbar": {
             "outlinewidth": 0,
             "ticks": ""
            },
            "colorscale": [
             [
              0,
              "#0d0887"
             ],
             [
              0.1111111111111111,
              "#46039f"
             ],
             [
              0.2222222222222222,
              "#7201a8"
             ],
             [
              0.3333333333333333,
              "#9c179e"
             ],
             [
              0.4444444444444444,
              "#bd3786"
             ],
             [
              0.5555555555555556,
              "#d8576b"
             ],
             [
              0.6666666666666666,
              "#ed7953"
             ],
             [
              0.7777777777777778,
              "#fb9f3a"
             ],
             [
              0.8888888888888888,
              "#fdca26"
             ],
             [
              1,
              "#f0f921"
             ]
            ],
            "type": "heatmap"
           }
          ],
          "histogram": [
           {
            "marker": {
             "pattern": {
              "fillmode": "overlay",
              "size": 10,
              "solidity": 0.2
             }
            },
            "type": "histogram"
           }
          ],
          "histogram2d": [
           {
            "colorbar": {
             "outlinewidth": 0,
             "ticks": ""
            },
            "colorscale": [
             [
              0,
              "#0d0887"
             ],
             [
              0.1111111111111111,
              "#46039f"
             ],
             [
              0.2222222222222222,
              "#7201a8"
             ],
             [
              0.3333333333333333,
              "#9c179e"
             ],
             [
              0.4444444444444444,
              "#bd3786"
             ],
             [
              0.5555555555555556,
              "#d8576b"
             ],
             [
              0.6666666666666666,
              "#ed7953"
             ],
             [
              0.7777777777777778,
              "#fb9f3a"
             ],
             [
              0.8888888888888888,
              "#fdca26"
             ],
             [
              1,
              "#f0f921"
             ]
            ],
            "type": "histogram2d"
           }
          ],
          "histogram2dcontour": [
           {
            "colorbar": {
             "outlinewidth": 0,
             "ticks": ""
            },
            "colorscale": [
             [
              0,
              "#0d0887"
             ],
             [
              0.1111111111111111,
              "#46039f"
             ],
             [
              0.2222222222222222,
              "#7201a8"
             ],
             [
              0.3333333333333333,
              "#9c179e"
             ],
             [
              0.4444444444444444,
              "#bd3786"
             ],
             [
              0.5555555555555556,
              "#d8576b"
             ],
             [
              0.6666666666666666,
              "#ed7953"
             ],
             [
              0.7777777777777778,
              "#fb9f3a"
             ],
             [
              0.8888888888888888,
              "#fdca26"
             ],
             [
              1,
              "#f0f921"
             ]
            ],
            "type": "histogram2dcontour"
           }
          ],
          "mesh3d": [
           {
            "colorbar": {
             "outlinewidth": 0,
             "ticks": ""
            },
            "type": "mesh3d"
           }
          ],
          "parcoords": [
           {
            "line": {
             "colorbar": {
              "outlinewidth": 0,
              "ticks": ""
             }
            },
            "type": "parcoords"
           }
          ],
          "pie": [
           {
            "automargin": true,
            "type": "pie"
           }
          ],
          "scatter": [
           {
            "fillpattern": {
             "fillmode": "overlay",
             "size": 10,
             "solidity": 0.2
            },
            "type": "scatter"
           }
          ],
          "scatter3d": [
           {
            "line": {
             "colorbar": {
              "outlinewidth": 0,
              "ticks": ""
             }
            },
            "marker": {
             "colorbar": {
              "outlinewidth": 0,
              "ticks": ""
             }
            },
            "type": "scatter3d"
           }
          ],
          "scattercarpet": [
           {
            "marker": {
             "colorbar": {
              "outlinewidth": 0,
              "ticks": ""
             }
            },
            "type": "scattercarpet"
           }
          ],
          "scattergeo": [
           {
            "marker": {
             "colorbar": {
              "outlinewidth": 0,
              "ticks": ""
             }
            },
            "type": "scattergeo"
           }
          ],
          "scattergl": [
           {
            "marker": {
             "colorbar": {
              "outlinewidth": 0,
              "ticks": ""
             }
            },
            "type": "scattergl"
           }
          ],
          "scattermap": [
           {
            "marker": {
             "colorbar": {
              "outlinewidth": 0,
              "ticks": ""
             }
            },
            "type": "scattermap"
           }
          ],
          "scattermapbox": [
           {
            "marker": {
             "colorbar": {
              "outlinewidth": 0,
              "ticks": ""
             }
            },
            "type": "scattermapbox"
           }
          ],
          "scatterpolar": [
           {
            "marker": {
             "colorbar": {
              "outlinewidth": 0,
              "ticks": ""
             }
            },
            "type": "scatterpolar"
           }
          ],
          "scatterpolargl": [
           {
            "marker": {
             "colorbar": {
              "outlinewidth": 0,
              "ticks": ""
             }
            },
            "type": "scatterpolargl"
           }
          ],
          "scatterternary": [
           {
            "marker": {
             "colorbar": {
              "outlinewidth": 0,
              "ticks": ""
             }
            },
            "type": "scatterternary"
           }
          ],
          "surface": [
           {
            "colorbar": {
             "outlinewidth": 0,
             "ticks": ""
            },
            "colorscale": [
             [
              0,
              "#0d0887"
             ],
             [
              0.1111111111111111,
              "#46039f"
             ],
             [
              0.2222222222222222,
              "#7201a8"
             ],
             [
              0.3333333333333333,
              "#9c179e"
             ],
             [
              0.4444444444444444,
              "#bd3786"
             ],
             [
              0.5555555555555556,
              "#d8576b"
             ],
             [
              0.6666666666666666,
              "#ed7953"
             ],
             [
              0.7777777777777778,
              "#fb9f3a"
             ],
             [
              0.8888888888888888,
              "#fdca26"
             ],
             [
              1,
              "#f0f921"
             ]
            ],
            "type": "surface"
           }
          ],
          "table": [
           {
            "cells": {
             "fill": {
              "color": "#EBF0F8"
             },
             "line": {
              "color": "white"
             }
            },
            "header": {
             "fill": {
              "color": "#C8D4E3"
             },
             "line": {
              "color": "white"
             }
            },
            "type": "table"
           }
          ]
         },
         "layout": {
          "annotationdefaults": {
           "arrowcolor": "#2a3f5f",
           "arrowhead": 0,
           "arrowwidth": 1
          },
          "autotypenumbers": "strict",
          "coloraxis": {
           "colorbar": {
            "outlinewidth": 0,
            "ticks": ""
           }
          },
          "colorscale": {
           "diverging": [
            [
             0,
             "#8e0152"
            ],
            [
             0.1,
             "#c51b7d"
            ],
            [
             0.2,
             "#de77ae"
            ],
            [
             0.3,
             "#f1b6da"
            ],
            [
             0.4,
             "#fde0ef"
            ],
            [
             0.5,
             "#f7f7f7"
            ],
            [
             0.6,
             "#e6f5d0"
            ],
            [
             0.7,
             "#b8e186"
            ],
            [
             0.8,
             "#7fbc41"
            ],
            [
             0.9,
             "#4d9221"
            ],
            [
             1,
             "#276419"
            ]
           ],
           "sequential": [
            [
             0,
             "#0d0887"
            ],
            [
             0.1111111111111111,
             "#46039f"
            ],
            [
             0.2222222222222222,
             "#7201a8"
            ],
            [
             0.3333333333333333,
             "#9c179e"
            ],
            [
             0.4444444444444444,
             "#bd3786"
            ],
            [
             0.5555555555555556,
             "#d8576b"
            ],
            [
             0.6666666666666666,
             "#ed7953"
            ],
            [
             0.7777777777777778,
             "#fb9f3a"
            ],
            [
             0.8888888888888888,
             "#fdca26"
            ],
            [
             1,
             "#f0f921"
            ]
           ],
           "sequentialminus": [
            [
             0,
             "#0d0887"
            ],
            [
             0.1111111111111111,
             "#46039f"
            ],
            [
             0.2222222222222222,
             "#7201a8"
            ],
            [
             0.3333333333333333,
             "#9c179e"
            ],
            [
             0.4444444444444444,
             "#bd3786"
            ],
            [
             0.5555555555555556,
             "#d8576b"
            ],
            [
             0.6666666666666666,
             "#ed7953"
            ],
            [
             0.7777777777777778,
             "#fb9f3a"
            ],
            [
             0.8888888888888888,
             "#fdca26"
            ],
            [
             1,
             "#f0f921"
            ]
           ]
          },
          "colorway": [
           "#636efa",
           "#EF553B",
           "#00cc96",
           "#ab63fa",
           "#FFA15A",
           "#19d3f3",
           "#FF6692",
           "#B6E880",
           "#FF97FF",
           "#FECB52"
          ],
          "font": {
           "color": "#2a3f5f"
          },
          "geo": {
           "bgcolor": "white",
           "lakecolor": "white",
           "landcolor": "#E5ECF6",
           "showlakes": true,
           "showland": true,
           "subunitcolor": "white"
          },
          "hoverlabel": {
           "align": "left"
          },
          "hovermode": "closest",
          "mapbox": {
           "style": "light"
          },
          "paper_bgcolor": "white",
          "plot_bgcolor": "#E5ECF6",
          "polar": {
           "angularaxis": {
            "gridcolor": "white",
            "linecolor": "white",
            "ticks": ""
           },
           "bgcolor": "#E5ECF6",
           "radialaxis": {
            "gridcolor": "white",
            "linecolor": "white",
            "ticks": ""
           }
          },
          "scene": {
           "xaxis": {
            "backgroundcolor": "#E5ECF6",
            "gridcolor": "white",
            "gridwidth": 2,
            "linecolor": "white",
            "showbackground": true,
            "ticks": "",
            "zerolinecolor": "white"
           },
           "yaxis": {
            "backgroundcolor": "#E5ECF6",
            "gridcolor": "white",
            "gridwidth": 2,
            "linecolor": "white",
            "showbackground": true,
            "ticks": "",
            "zerolinecolor": "white"
           },
           "zaxis": {
            "backgroundcolor": "#E5ECF6",
            "gridcolor": "white",
            "gridwidth": 2,
            "linecolor": "white",
            "showbackground": true,
            "ticks": "",
            "zerolinecolor": "white"
           }
          },
          "shapedefaults": {
           "line": {
            "color": "#2a3f5f"
           }
          },
          "ternary": {
           "aaxis": {
            "gridcolor": "white",
            "linecolor": "white",
            "ticks": ""
           },
           "baxis": {
            "gridcolor": "white",
            "linecolor": "white",
            "ticks": ""
           },
           "bgcolor": "#E5ECF6",
           "caxis": {
            "gridcolor": "white",
            "linecolor": "white",
            "ticks": ""
           }
          },
          "title": {
           "x": 0.05
          },
          "xaxis": {
           "automargin": true,
           "gridcolor": "white",
           "linecolor": "white",
           "ticks": "",
           "title": {
            "standoff": 15
           },
           "zerolinecolor": "white",
           "zerolinewidth": 2
          },
          "yaxis": {
           "automargin": true,
           "gridcolor": "white",
           "linecolor": "white",
           "ticks": "",
           "title": {
            "standoff": 15
           },
           "zerolinecolor": "white",
           "zerolinewidth": 2
          }
         }
        },
        "title": {
         "text": "3D Vector Store Visualization (t-SNE)"
        },
        "width": 900
       }
      }
     },
     "metadata": {},
     "output_type": "display_data"
    },
    {
     "name": "stdout",
     "output_type": "stream",
     "text": [
      "Launching chat interface...\n",
      "Setting up chat interface...\n",
      "   Using Session ID for this run: 93e27a20-21b5-4dfa-8839-0da264e18f0d\n"
     ]
    },
    {
     "name": "stderr",
     "output_type": "stream",
     "text": [
      "c:\\Users\\karim\\anaconda3\\envs\\rag_solution\\Lib\\site-packages\\gradio\\chat_interface.py:347: UserWarning:\n",
      "\n",
      "The 'tuples' format for chatbot messages is deprecated and will be removed in a future version of Gradio. Please set type='messages' instead, which uses openai-style 'role' and 'content' keys.\n",
      "\n"
     ]
    },
    {
     "name": "stdout",
     "output_type": "stream",
     "text": [
      "* Running on local URL:  http://127.0.0.1:7860\n",
      "* To create a public link, set `share=True` in `launch()`.\n"
     ]
    },
    {
     "data": {
      "text/html": [
       "<div><iframe src=\"http://127.0.0.1:7860/\" width=\"100%\" height=\"500\" allow=\"autoplay; camera; microphone; clipboard-read; clipboard-write;\" frameborder=\"0\" allowfullscreen></iframe></div>"
      ],
      "text/plain": [
       "<IPython.core.display.HTML object>"
      ]
     },
     "metadata": {},
     "output_type": "display_data"
    },
    {
     "name": "stdout",
     "output_type": "stream",
     "text": [
      "Keyboard interruption in main thread... closing server.\n",
      "Chatbot interface launched. Check your browser.\n"
     ]
    }
   ],
   "source": [
    "main()"
   ]
  },
  {
   "cell_type": "code",
   "execution_count": null,
   "id": "fb2762e0",
   "metadata": {},
   "outputs": [],
   "source": []
  }
 ],
 "metadata": {
  "kernelspec": {
   "display_name": "rag_solution",
   "language": "python",
   "name": "python3"
  },
  "language_info": {
   "codemirror_mode": {
    "name": "ipython",
    "version": 3
   },
   "file_extension": ".py",
   "mimetype": "text/x-python",
   "name": "python",
   "nbconvert_exporter": "python",
   "pygments_lexer": "ipython3",
   "version": "3.11.14"
  }
 },
 "nbformat": 4,
 "nbformat_minor": 5
}
